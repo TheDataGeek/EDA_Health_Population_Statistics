{
 "cells": [
  {
   "cell_type": "markdown",
   "id": "e2e890ed-d1ef-42b2-8ce4-055e5bb1b0d7",
   "metadata": {},
   "source": [
    "Let's do some EDA on Health Nutrition and Population Statistics. The dataset is more fully described on Kaggle, and can be found [here](https://www.kaggle.com/theworldbank/health-nutrition-and-population-statistics)."
   ]
  },
  {
   "cell_type": "code",
   "execution_count": 1,
   "id": "ba0db5dd-e181-4dd0-9c8f-c146581e119e",
   "metadata": {},
   "outputs": [],
   "source": [
    "# start with some basic imports\n",
    "import numpy as np\n",
    "import pandas as pd"
   ]
  },
  {
   "cell_type": "code",
   "execution_count": 2,
   "id": "706724b4-71aa-4d3a-92fd-b2445e0ca323",
   "metadata": {},
   "outputs": [],
   "source": [
    "# read and assign csv file to 'health_df'\n",
    "health_df = pd.read_csv('../data/health_nutrition_population_statistics.csv')"
   ]
  },
  {
   "cell_type": "code",
   "execution_count": 3,
   "id": "b6735ba2-1a27-4d57-aa86-f242d560c3f5",
   "metadata": {},
   "outputs": [
    {
     "data": {
      "text/plain": [
       "(89010, 61)"
      ]
     },
     "execution_count": 3,
     "metadata": {},
     "output_type": "execute_result"
    }
   ],
   "source": [
    "# return no. of rows and columns\n",
    "health_df.shape"
   ]
  },
  {
   "cell_type": "code",
   "execution_count": 4,
   "id": "289cf1cd-cc00-493a-845f-d9b3f253b1a7",
   "metadata": {},
   "outputs": [
    {
     "name": "stdout",
     "output_type": "stream",
     "text": [
      "<class 'pandas.core.frame.DataFrame'>\n",
      "RangeIndex: 89010 entries, 0 to 89009\n",
      "Data columns (total 61 columns):\n",
      " #   Column          Non-Null Count  Dtype  \n",
      "---  ------          --------------  -----  \n",
      " 0   Country Name    89010 non-null  object \n",
      " 1   Country Code    89010 non-null  object \n",
      " 2   Indicator Name  89010 non-null  object \n",
      " 3   Indicator Code  89010 non-null  object \n",
      " 4   1960            35482 non-null  float64\n",
      " 5   1961            35325 non-null  float64\n",
      " 6   1962            35889 non-null  float64\n",
      " 7   1963            35452 non-null  float64\n",
      " 8   1964            35483 non-null  float64\n",
      " 9   1965            35603 non-null  float64\n",
      " 10  1966            35538 non-null  float64\n",
      " 11  1967            36022 non-null  float64\n",
      " 12  1968            35577 non-null  float64\n",
      " 13  1969            35630 non-null  float64\n",
      " 14  1970            36910 non-null  float64\n",
      " 15  1971            37578 non-null  float64\n",
      " 16  1972            38015 non-null  float64\n",
      " 17  1973            37542 non-null  float64\n",
      " 18  1974            37574 non-null  float64\n",
      " 19  1975            37760 non-null  float64\n",
      " 20  1976            37778 non-null  float64\n",
      " 21  1977            38204 non-null  float64\n",
      " 22  1978            37797 non-null  float64\n",
      " 23  1979            37848 non-null  float64\n",
      " 24  1980            38578 non-null  float64\n",
      " 25  1981            38829 non-null  float64\n",
      " 26  1982            39182 non-null  float64\n",
      " 27  1983            38772 non-null  float64\n",
      " 28  1984            38964 non-null  float64\n",
      " 29  1985            39020 non-null  float64\n",
      " 30  1986            39367 non-null  float64\n",
      " 31  1987            39832 non-null  float64\n",
      " 32  1988            39166 non-null  float64\n",
      " 33  1989            39282 non-null  float64\n",
      " 34  1990            47722 non-null  float64\n",
      " 35  1991            47231 non-null  float64\n",
      " 36  1992            47923 non-null  float64\n",
      " 37  1993            47398 non-null  float64\n",
      " 38  1994            47678 non-null  float64\n",
      " 39  1995            51326 non-null  float64\n",
      " 40  1996            51386 non-null  float64\n",
      " 41  1997            51560 non-null  float64\n",
      " 42  1998            51404 non-null  float64\n",
      " 43  1999            52442 non-null  float64\n",
      " 44  2000            56672 non-null  float64\n",
      " 45  2001            52924 non-null  float64\n",
      " 46  2002            53536 non-null  float64\n",
      " 47  2003            53013 non-null  float64\n",
      " 48  2004            53417 non-null  float64\n",
      " 49  2005            54304 non-null  float64\n",
      " 50  2006            54398 non-null  float64\n",
      " 51  2007            54255 non-null  float64\n",
      " 52  2008            53878 non-null  float64\n",
      " 53  2009            54437 non-null  float64\n",
      " 54  2010            57099 non-null  float64\n",
      " 55  2011            54922 non-null  float64\n",
      " 56  2012            54927 non-null  float64\n",
      " 57  2013            52924 non-null  float64\n",
      " 58  2014            52199 non-null  float64\n",
      " 59  2015            43068 non-null  float64\n",
      " 60  Unnamed: 60     0 non-null      float64\n",
      "dtypes: float64(57), object(4)\n",
      "memory usage: 41.4+ MB\n"
     ]
    }
   ],
   "source": [
    "# return dataframe info (non-null value count & dtype)\n",
    "health_df.info()"
   ]
  },
  {
   "cell_type": "markdown",
   "id": "db0bf403-8c93-485b-b8b0-64d50e6d4d96",
   "metadata": {},
   "source": [
    "Looks like its a dataset of countries, indicator names, and years from 1960 - 2015. Let's dive a little deeper and determine the unique values for 'Country Name' and 'Indicator Name'. Note, column '60' has no values."
   ]
  },
  {
   "cell_type": "code",
   "execution_count": 5,
   "id": "7bf906cf-2688-4098-900b-8a3b544523b0",
   "metadata": {},
   "outputs": [
    {
     "data": {
      "text/plain": [
       "(89010, 60)"
      ]
     },
     "execution_count": 5,
     "metadata": {},
     "output_type": "execute_result"
    }
   ],
   "source": [
    "# drop column with no objects/values\n",
    "health_df.drop(columns = 'Unnamed: 60', inplace=True)\n",
    "health_df.shape"
   ]
  },
  {
   "cell_type": "code",
   "execution_count": 6,
   "id": "5c9558fb-b124-4990-9091-fc285813bfc4",
   "metadata": {},
   "outputs": [
    {
     "data": {
      "text/plain": [
       "258"
      ]
     },
     "execution_count": 6,
     "metadata": {},
     "output_type": "execute_result"
    }
   ],
   "source": [
    "# how many unique values in the 'Country Name' column?\n",
    "len(health_df['Country Name'].unique())"
   ]
  },
  {
   "cell_type": "code",
   "execution_count": 7,
   "id": "ad7d25fc-8747-47af-a87d-64d3f442ea3e",
   "metadata": {},
   "outputs": [
    {
     "data": {
      "text/plain": [
       "345"
      ]
     },
     "execution_count": 7,
     "metadata": {},
     "output_type": "execute_result"
    }
   ],
   "source": [
    "# how many unique values in the 'Indicator Name' column?\n",
    "len(health_df['Indicator Name'].unique())"
   ]
  },
  {
   "cell_type": "code",
   "execution_count": 8,
   "id": "55c03169-97aa-411b-bbcc-2b9bdaa92892",
   "metadata": {},
   "outputs": [
    {
     "data": {
      "text/plain": [
       "array(['% of females ages 15-49 having comprehensive correct knowledge about HIV (2 prevent ways and reject 3 misconceptions)',\n",
       "       '% of males ages 15-49 having comprehensive correct knowledge about HIV (2 prevent ways and reject 3 misconceptions)',\n",
       "       'Adolescent fertility rate (births per 1,000 women ages 15-19)',\n",
       "       'Adults (ages 15+) and children (0-14 years) living with HIV',\n",
       "       'Adults (ages 15+) and children (ages 0-14) newly infected with HIV',\n",
       "       'Adults (ages 15+) living with HIV',\n",
       "       'Adults (ages 15+) newly infected with HIV',\n",
       "       'Age at first marriage, female', 'Age at first marriage, male',\n",
       "       'Age dependency ratio (% of working-age population)'], dtype=object)"
      ]
     },
     "execution_count": 8,
     "metadata": {},
     "output_type": "execute_result"
    }
   ],
   "source": [
    "# what type of data is in the 'Indicator Name' column?\n",
    "health_df['Indicator Name'].unique()[:10]"
   ]
  },
  {
   "cell_type": "markdown",
   "id": "4765cd0a-d39d-4dda-abc6-682981b7246b",
   "metadata": {},
   "source": [
    "Not surprisingly, various health & population statistics. Let's filter the 'Country Name' with 'United States'."
   ]
  },
  {
   "cell_type": "code",
   "execution_count": 9,
   "id": "041d4d80-cdc3-4206-a827-6ab76937ca1c",
   "metadata": {},
   "outputs": [
    {
     "data": {
      "text/plain": [
       "(345, 60)"
      ]
     },
     "execution_count": 9,
     "metadata": {},
     "output_type": "execute_result"
    }
   ],
   "source": [
    "# return a dataframe where 'Country Name' == 'United States'\n",
    "usa_df = health_df[health_df['Country Name'] == 'United States']\n",
    "usa_df.shape"
   ]
  },
  {
   "cell_type": "code",
   "execution_count": 10,
   "id": "2e42221c-8e9a-4610-bb36-5866675d9310",
   "metadata": {},
   "outputs": [
    {
     "data": {
      "text/html": [
       "<div>\n",
       "<style scoped>\n",
       "    .dataframe tbody tr th:only-of-type {\n",
       "        vertical-align: middle;\n",
       "    }\n",
       "\n",
       "    .dataframe tbody tr th {\n",
       "        vertical-align: top;\n",
       "    }\n",
       "\n",
       "    .dataframe thead th {\n",
       "        text-align: right;\n",
       "    }\n",
       "</style>\n",
       "<table border=\"1\" class=\"dataframe\">\n",
       "  <thead>\n",
       "    <tr style=\"text-align: right;\">\n",
       "      <th></th>\n",
       "      <th>Country Name</th>\n",
       "      <th>Country Code</th>\n",
       "      <th>Indicator Name</th>\n",
       "      <th>Indicator Code</th>\n",
       "      <th>1960</th>\n",
       "      <th>1961</th>\n",
       "      <th>1962</th>\n",
       "      <th>1963</th>\n",
       "      <th>1964</th>\n",
       "      <th>1965</th>\n",
       "      <th>...</th>\n",
       "      <th>2006</th>\n",
       "      <th>2007</th>\n",
       "      <th>2008</th>\n",
       "      <th>2009</th>\n",
       "      <th>2010</th>\n",
       "      <th>2011</th>\n",
       "      <th>2012</th>\n",
       "      <th>2013</th>\n",
       "      <th>2014</th>\n",
       "      <th>2015</th>\n",
       "    </tr>\n",
       "  </thead>\n",
       "  <tbody>\n",
       "    <tr>\n",
       "      <th>85215</th>\n",
       "      <td>United States</td>\n",
       "      <td>USA</td>\n",
       "      <td>% of females ages 15-49 having comprehensive c...</td>\n",
       "      <td>SH.HIV.KNOW.FE.ZS</td>\n",
       "      <td>NaN</td>\n",
       "      <td>NaN</td>\n",
       "      <td>NaN</td>\n",
       "      <td>NaN</td>\n",
       "      <td>NaN</td>\n",
       "      <td>NaN</td>\n",
       "      <td>...</td>\n",
       "      <td>NaN</td>\n",
       "      <td>NaN</td>\n",
       "      <td>NaN</td>\n",
       "      <td>NaN</td>\n",
       "      <td>NaN</td>\n",
       "      <td>NaN</td>\n",
       "      <td>NaN</td>\n",
       "      <td>NaN</td>\n",
       "      <td>NaN</td>\n",
       "      <td>NaN</td>\n",
       "    </tr>\n",
       "    <tr>\n",
       "      <th>85216</th>\n",
       "      <td>United States</td>\n",
       "      <td>USA</td>\n",
       "      <td>% of males ages 15-49 having comprehensive cor...</td>\n",
       "      <td>SH.HIV.KNOW.MA.ZS</td>\n",
       "      <td>NaN</td>\n",
       "      <td>NaN</td>\n",
       "      <td>NaN</td>\n",
       "      <td>NaN</td>\n",
       "      <td>NaN</td>\n",
       "      <td>NaN</td>\n",
       "      <td>...</td>\n",
       "      <td>NaN</td>\n",
       "      <td>NaN</td>\n",
       "      <td>NaN</td>\n",
       "      <td>NaN</td>\n",
       "      <td>NaN</td>\n",
       "      <td>NaN</td>\n",
       "      <td>NaN</td>\n",
       "      <td>NaN</td>\n",
       "      <td>NaN</td>\n",
       "      <td>NaN</td>\n",
       "    </tr>\n",
       "    <tr>\n",
       "      <th>85217</th>\n",
       "      <td>United States</td>\n",
       "      <td>USA</td>\n",
       "      <td>Adolescent fertility rate (births per 1,000 wo...</td>\n",
       "      <td>SP.ADO.TFRT</td>\n",
       "      <td>84.9872</td>\n",
       "      <td>82.7346</td>\n",
       "      <td>80.482</td>\n",
       "      <td>77.9506</td>\n",
       "      <td>75.4192</td>\n",
       "      <td>72.8878</td>\n",
       "      <td>...</td>\n",
       "      <td>40.3754</td>\n",
       "      <td>39.669</td>\n",
       "      <td>37.7398</td>\n",
       "      <td>35.8106</td>\n",
       "      <td>33.8814</td>\n",
       "      <td>31.9522</td>\n",
       "      <td>30.023</td>\n",
       "      <td>27.0666</td>\n",
       "      <td>24.1102</td>\n",
       "      <td>NaN</td>\n",
       "    </tr>\n",
       "    <tr>\n",
       "      <th>85218</th>\n",
       "      <td>United States</td>\n",
       "      <td>USA</td>\n",
       "      <td>Adults (ages 15+) and children (0-14 years) li...</td>\n",
       "      <td>SH.HIV.TOTL</td>\n",
       "      <td>NaN</td>\n",
       "      <td>NaN</td>\n",
       "      <td>NaN</td>\n",
       "      <td>NaN</td>\n",
       "      <td>NaN</td>\n",
       "      <td>NaN</td>\n",
       "      <td>...</td>\n",
       "      <td>NaN</td>\n",
       "      <td>NaN</td>\n",
       "      <td>NaN</td>\n",
       "      <td>NaN</td>\n",
       "      <td>NaN</td>\n",
       "      <td>NaN</td>\n",
       "      <td>NaN</td>\n",
       "      <td>NaN</td>\n",
       "      <td>NaN</td>\n",
       "      <td>NaN</td>\n",
       "    </tr>\n",
       "    <tr>\n",
       "      <th>85219</th>\n",
       "      <td>United States</td>\n",
       "      <td>USA</td>\n",
       "      <td>Adults (ages 15+) and children (ages 0-14) new...</td>\n",
       "      <td>SH.HIV.INCD.TL</td>\n",
       "      <td>NaN</td>\n",
       "      <td>NaN</td>\n",
       "      <td>NaN</td>\n",
       "      <td>NaN</td>\n",
       "      <td>NaN</td>\n",
       "      <td>NaN</td>\n",
       "      <td>...</td>\n",
       "      <td>NaN</td>\n",
       "      <td>NaN</td>\n",
       "      <td>NaN</td>\n",
       "      <td>NaN</td>\n",
       "      <td>NaN</td>\n",
       "      <td>NaN</td>\n",
       "      <td>NaN</td>\n",
       "      <td>NaN</td>\n",
       "      <td>NaN</td>\n",
       "      <td>NaN</td>\n",
       "    </tr>\n",
       "  </tbody>\n",
       "</table>\n",
       "<p>5 rows × 60 columns</p>\n",
       "</div>"
      ],
      "text/plain": [
       "        Country Name Country Code  \\\n",
       "85215  United States          USA   \n",
       "85216  United States          USA   \n",
       "85217  United States          USA   \n",
       "85218  United States          USA   \n",
       "85219  United States          USA   \n",
       "\n",
       "                                          Indicator Name     Indicator Code  \\\n",
       "85215  % of females ages 15-49 having comprehensive c...  SH.HIV.KNOW.FE.ZS   \n",
       "85216  % of males ages 15-49 having comprehensive cor...  SH.HIV.KNOW.MA.ZS   \n",
       "85217  Adolescent fertility rate (births per 1,000 wo...        SP.ADO.TFRT   \n",
       "85218  Adults (ages 15+) and children (0-14 years) li...        SH.HIV.TOTL   \n",
       "85219  Adults (ages 15+) and children (ages 0-14) new...     SH.HIV.INCD.TL   \n",
       "\n",
       "          1960     1961    1962     1963     1964     1965  ...     2006  \\\n",
       "85215      NaN      NaN     NaN      NaN      NaN      NaN  ...      NaN   \n",
       "85216      NaN      NaN     NaN      NaN      NaN      NaN  ...      NaN   \n",
       "85217  84.9872  82.7346  80.482  77.9506  75.4192  72.8878  ...  40.3754   \n",
       "85218      NaN      NaN     NaN      NaN      NaN      NaN  ...      NaN   \n",
       "85219      NaN      NaN     NaN      NaN      NaN      NaN  ...      NaN   \n",
       "\n",
       "         2007     2008     2009     2010     2011    2012     2013     2014  \\\n",
       "85215     NaN      NaN      NaN      NaN      NaN     NaN      NaN      NaN   \n",
       "85216     NaN      NaN      NaN      NaN      NaN     NaN      NaN      NaN   \n",
       "85217  39.669  37.7398  35.8106  33.8814  31.9522  30.023  27.0666  24.1102   \n",
       "85218     NaN      NaN      NaN      NaN      NaN     NaN      NaN      NaN   \n",
       "85219     NaN      NaN      NaN      NaN      NaN     NaN      NaN      NaN   \n",
       "\n",
       "       2015  \n",
       "85215   NaN  \n",
       "85216   NaN  \n",
       "85217   NaN  \n",
       "85218   NaN  \n",
       "85219   NaN  \n",
       "\n",
       "[5 rows x 60 columns]"
      ]
     },
     "execution_count": 10,
     "metadata": {},
     "output_type": "execute_result"
    }
   ],
   "source": [
    "usa_df.head()"
   ]
  },
  {
   "cell_type": "markdown",
   "id": "686ef889-309b-4436-b184-37c26d9289fe",
   "metadata": {},
   "source": [
    "Let's clean up the index, just in case."
   ]
  },
  {
   "cell_type": "code",
   "execution_count": 11,
   "id": "2a536e1e-491a-4296-bb7d-46f3815c7e32",
   "metadata": {},
   "outputs": [
    {
     "data": {
      "text/plain": [
       "RangeIndex(start=0, stop=345, step=1)"
      ]
     },
     "execution_count": 11,
     "metadata": {},
     "output_type": "execute_result"
    }
   ],
   "source": [
    "# reset index\n",
    "usa_df.reset_index(drop=True, inplace=True)\n",
    "usa_df.index"
   ]
  },
  {
   "cell_type": "code",
   "execution_count": 12,
   "id": "63cdb009-844c-41d0-a8ee-46d34eb7b777",
   "metadata": {},
   "outputs": [
    {
     "name": "stdout",
     "output_type": "stream",
     "text": [
      "<class 'pandas.core.frame.DataFrame'>\n",
      "RangeIndex: 345 entries, 0 to 344\n",
      "Data columns (total 60 columns):\n",
      " #   Column          Non-Null Count  Dtype  \n",
      "---  ------          --------------  -----  \n",
      " 0   Country Name    345 non-null    object \n",
      " 1   Country Code    345 non-null    object \n",
      " 2   Indicator Name  345 non-null    object \n",
      " 3   Indicator Code  345 non-null    object \n",
      " 4   1960            170 non-null    float64\n",
      " 5   1961            168 non-null    float64\n",
      " 6   1962            171 non-null    float64\n",
      " 7   1963            169 non-null    float64\n",
      " 8   1964            169 non-null    float64\n",
      " 9   1965            171 non-null    float64\n",
      " 10  1966            169 non-null    float64\n",
      " 11  1967            171 non-null    float64\n",
      " 12  1968            169 non-null    float64\n",
      " 13  1969            173 non-null    float64\n",
      " 14  1970            174 non-null    float64\n",
      " 15  1971            174 non-null    float64\n",
      " 16  1972            178 non-null    float64\n",
      " 17  1973            174 non-null    float64\n",
      " 18  1974            174 non-null    float64\n",
      " 19  1975            177 non-null    float64\n",
      " 20  1976            176 non-null    float64\n",
      " 21  1977            177 non-null    float64\n",
      " 22  1978            177 non-null    float64\n",
      " 23  1979            175 non-null    float64\n",
      " 24  1980            180 non-null    float64\n",
      " 25  1981            182 non-null    float64\n",
      " 26  1982            185 non-null    float64\n",
      " 27  1983            182 non-null    float64\n",
      " 28  1984            181 non-null    float64\n",
      " 29  1985            182 non-null    float64\n",
      " 30  1986            186 non-null    float64\n",
      " 31  1987            190 non-null    float64\n",
      " 32  1988            178 non-null    float64\n",
      " 33  1989            178 non-null    float64\n",
      " 34  1990            216 non-null    float64\n",
      " 35  1991            224 non-null    float64\n",
      " 36  1992            201 non-null    float64\n",
      " 37  1993            211 non-null    float64\n",
      " 38  1994            212 non-null    float64\n",
      " 39  1995            232 non-null    float64\n",
      " 40  1996            228 non-null    float64\n",
      " 41  1997            217 non-null    float64\n",
      " 42  1998            222 non-null    float64\n",
      " 43  1999            224 non-null    float64\n",
      " 44  2000            240 non-null    float64\n",
      " 45  2001            244 non-null    float64\n",
      " 46  2002            253 non-null    float64\n",
      " 47  2003            229 non-null    float64\n",
      " 48  2004            228 non-null    float64\n",
      " 49  2005            247 non-null    float64\n",
      " 50  2006            229 non-null    float64\n",
      " 51  2007            233 non-null    float64\n",
      " 52  2008            233 non-null    float64\n",
      " 53  2009            250 non-null    float64\n",
      " 54  2010            246 non-null    float64\n",
      " 55  2011            233 non-null    float64\n",
      " 56  2012            248 non-null    float64\n",
      " 57  2013            229 non-null    float64\n",
      " 58  2014            227 non-null    float64\n",
      " 59  2015            183 non-null    float64\n",
      "dtypes: float64(56), object(4)\n",
      "memory usage: 161.8+ KB\n"
     ]
    }
   ],
   "source": [
    "# return `usa_df` info\n",
    "usa_df.info()"
   ]
  },
  {
   "cell_type": "markdown",
   "id": "f5d9ec72-3258-4f51-ab0f-b8fd1cb80980",
   "metadata": {},
   "source": [
    "Looks like there's some missing data that we'll need to deal with later. In the meantime, let's revisit 'Indicator Name'."
   ]
  },
  {
   "cell_type": "code",
   "execution_count": 13,
   "id": "eea28e7e-3220-4222-838f-59d943fe02d7",
   "metadata": {},
   "outputs": [
    {
     "data": {
      "text/plain": [
       "array(['% of females ages 15-49 having comprehensive correct knowledge about HIV (2 prevent ways and reject 3 misconceptions)',\n",
       "       '% of males ages 15-49 having comprehensive correct knowledge about HIV (2 prevent ways and reject 3 misconceptions)',\n",
       "       'Adolescent fertility rate (births per 1,000 women ages 15-19)',\n",
       "       'Adults (ages 15+) and children (0-14 years) living with HIV',\n",
       "       'Adults (ages 15+) and children (ages 0-14) newly infected with HIV',\n",
       "       'Adults (ages 15+) living with HIV',\n",
       "       'Adults (ages 15+) newly infected with HIV',\n",
       "       'Age at first marriage, female', 'Age at first marriage, male',\n",
       "       'Age dependency ratio (% of working-age population)',\n",
       "       'Age dependency ratio, old', 'Age dependency ratio, young',\n",
       "       'Age population, age 0, female, interpolated',\n",
       "       'Age population, age 0, male, interpolated',\n",
       "       'Age population, age 01, female, interpolated',\n",
       "       'Age population, age 01, male, interpolated',\n",
       "       'Age population, age 02, female, interpolated',\n",
       "       'Age population, age 02, male, interpolated',\n",
       "       'Age population, age 03, female, interpolated',\n",
       "       'Age population, age 03, male, interpolated',\n",
       "       'Age population, age 04, female, interpolated',\n",
       "       'Age population, age 04, male, interpolated',\n",
       "       'Age population, age 05, female, interpolated',\n",
       "       'Age population, age 05, male, interpolated',\n",
       "       'Age population, age 06, female, interpolated',\n",
       "       'Age population, age 06, male, interpolated',\n",
       "       'Age population, age 07, female, interpolated',\n",
       "       'Age population, age 07, male, interpolated',\n",
       "       'Age population, age 08, female, interpolated',\n",
       "       'Age population, age 08, male, interpolated',\n",
       "       'Age population, age 09, female, interpolated',\n",
       "       'Age population, age 09, male, interpolated',\n",
       "       'Age population, age 10, female, interpolated',\n",
       "       'Age population, age 10, male, interpolated',\n",
       "       'Age population, age 11, female, interpolated',\n",
       "       'Age population, age 11, male, interpolated',\n",
       "       'Age population, age 12, female, interpolated',\n",
       "       'Age population, age 12, male, interpolated',\n",
       "       'Age population, age 13, female, interpolated',\n",
       "       'Age population, age 13, male, interpolated',\n",
       "       'Age population, age 14, female, interpolated',\n",
       "       'Age population, age 14, male, interpolated',\n",
       "       'Age population, age 15, female, interpolated',\n",
       "       'Age population, age 15, male, interpolated',\n",
       "       'Age population, age 16, female, interpolated',\n",
       "       'Age population, age 16, male, interpolated',\n",
       "       'Age population, age 17, female, interpolated',\n",
       "       'Age population, age 17, male, interpolated',\n",
       "       'Age population, age 18, female, interpolated',\n",
       "       'Age population, age 18, male, interpolated',\n",
       "       'Age population, age 19, female, interpolated',\n",
       "       'Age population, age 19, male, interpolated',\n",
       "       'Age population, age 20, female, interpolated',\n",
       "       'Age population, age 20, male, interpolated',\n",
       "       'Age population, age 21, female, interpolated',\n",
       "       'Age population, age 21, male, interpolated',\n",
       "       'Age population, age 22, female, interpolated',\n",
       "       'Age population, age 22, male, interpolated',\n",
       "       'Age population, age 23, female, interpolated',\n",
       "       'Age population, age 23, male, interpolated',\n",
       "       'Age population, age 24, female, interpolated',\n",
       "       'Age population, age 24, male, interpolated',\n",
       "       'Age population, age 25, female, interpolated',\n",
       "       'Age population, age 25, male, interpolated',\n",
       "       'AIDS estimated deaths (UNAIDS estimates)',\n",
       "       'Antiretroviral therapy coverage (% of people living with HIV)',\n",
       "       'Antiretroviral therapy coverage for PMTCT (% of pregnant women living with HIV)',\n",
       "       'ARI treatment (% of children under 5 taken to a health provider)',\n",
       "       'Birth rate, crude (per 1,000 people)',\n",
       "       'Births attended by skilled health staff (% of total)',\n",
       "       'Cause of death, by communicable diseases and maternal, prenatal and nutrition conditions (% of total)',\n",
       "       'Cause of death, by injury (% of total)',\n",
       "       'Cause of death, by non-communicable diseases (% of total)',\n",
       "       'Children (0-14) living with HIV',\n",
       "       'Children (ages 0-14) newly infected with HIV',\n",
       "       'Children orphaned by HIV/AIDS',\n",
       "       'Children with fever receiving antimalarial drugs (% of children under age 5 with fever)',\n",
       "       'Community health workers (per 1,000 people)',\n",
       "       'Completeness of birth registration (%)',\n",
       "       'Completeness of birth registration, rural (%)',\n",
       "       'Completeness of birth registration, urban (%)',\n",
       "       'Completeness of death registration with cause-of-death information (%)',\n",
       "       'Comprehensive correct knowledge of HIV/AIDS, ages 15-24, female (2 prevent ways and reject 3 misconceptions)',\n",
       "       'Comprehensive correct knowledge of HIV/AIDS, ages 15-24, male (2 prevent ways and reject 3 misconceptions)',\n",
       "       'Condom use with non regular partner, % adults(15-49), female',\n",
       "       'Condom use with non regular partner, % adults(15-49), male',\n",
       "       'Condom use, population ages 15-24, female (% of females ages 15-24)',\n",
       "       'Condom use, population ages 15-24, male (% of males ages 15-24)',\n",
       "       'Consumption of iodized salt (% of households)',\n",
       "       'Contraceptive prevalence, any methods (% of women ages 15-49)',\n",
       "       'Contraceptive prevalence, modern methods (% of women ages 15-49)',\n",
       "       'Death rate, crude (per 1,000 people)',\n",
       "       'Demand for family planning satisfied by any methods (% of married women with demand for family planning)',\n",
       "       'Demand for family planning satisfied by modern methods (% of married women with demand for family planning)',\n",
       "       'Diabetes prevalence (% of population ages 20 to 79)',\n",
       "       'Diarrhea treatment (% of children under 5 receiving oral rehydration and continued feeding)',\n",
       "       'Diarrhea treatment (% of children under 5 who received ORS packet)',\n",
       "       'Exclusive breastfeeding (% of children under 6 months)',\n",
       "       'External resources for health (% of total expenditure on health)',\n",
       "       'Female headed households (% of households with a female head)',\n",
       "       'Female population 00-04', 'Female population 05-09',\n",
       "       'Female population 10-14', 'Female population 15-19',\n",
       "       'Female population 20-24', 'Female population 25-29',\n",
       "       'Female population 30-34', 'Female population 35-39',\n",
       "       'Female population 40-44', 'Female population 45-49',\n",
       "       'Female population 50-54', 'Female population 55-59',\n",
       "       'Female population 60-64', 'Female population 65-69',\n",
       "       'Female population 70-74', 'Female population 75-79',\n",
       "       'Female population 80+',\n",
       "       'Fertility rate, total (births per woman)',\n",
       "       'GNI per capita, Atlas method (current US$)',\n",
       "       'Health expenditure per capita (current US$)',\n",
       "       'Health expenditure per capita, PPP',\n",
       "       'Health expenditure, private (% of GDP)',\n",
       "       'Health expenditure, private (% of total health expenditure)',\n",
       "       'Health expenditure, public (% of GDP)',\n",
       "       'Health expenditure, public (% of government expenditure)',\n",
       "       'Health expenditure, public (% of total health expenditure)',\n",
       "       'Health expenditure, total (% of GDP)',\n",
       "       'Health expenditure, total (current US$)',\n",
       "       'Hospital beds (per 1,000 people)',\n",
       "       'Immunization, BCG (% of one-year-old children)',\n",
       "       'Immunization, DPT (% of children ages 12-23 months)',\n",
       "       'Immunization, HepB3 (% of one-year-old children)',\n",
       "       'Immunization, Hib3 (% of children ages 12-23 months)',\n",
       "       'Immunization, measles (% of children ages 12-23 months)',\n",
       "       'Immunization, Pol3 (% of one-year-old children)',\n",
       "       'Improved sanitation facilities (% of population with access)',\n",
       "       'Improved sanitation facilities, rural (% of rural population with access)',\n",
       "       'Improved sanitation facilities, urban (% of urban population with access)',\n",
       "       'Improved water source (% of population with access)',\n",
       "       'Improved water source, rural (% of rural population with access)',\n",
       "       'Improved water source, urban (% of urban population with access)',\n",
       "       'Incidence of HIV (% of uninfected population ages 15-49)',\n",
       "       'Incidence of tuberculosis (per 100,000 people)',\n",
       "       'Infant and young child feeding practices, all 3 IYCF (% children ages 6-23 months)',\n",
       "       'Labor force, female (% of total labor force)',\n",
       "       'Labor force, total', 'Life expectancy at birth, female (years)',\n",
       "       'Life expectancy at birth, male (years)',\n",
       "       'Life expectancy at birth, total (years)',\n",
       "       'Lifetime risk of maternal death (%)',\n",
       "       'Lifetime risk of maternal death (1 in: rate varies by country)',\n",
       "       'Literacy rate, adult female (% of females ages 15 and above)',\n",
       "       'Literacy rate, adult male (% of males ages 15 and above)',\n",
       "       'Literacy rate, adult total (% of people ages 15 and above)',\n",
       "       'Literacy rate, youth male (% of males ages 15-24)',\n",
       "       'Literacy rate, youth total (% of people ages 15-24)',\n",
       "       'Low-birthweight babies (% of births)', 'Malaria cases reported',\n",
       "       'Male population 00-04', 'Male population 05-09',\n",
       "       'Male population 10-14', 'Male population 15-19',\n",
       "       'Male population 20-24', 'Male population 25-29',\n",
       "       'Male population 30-34', 'Male population 35-39',\n",
       "       'Male population 40-44', 'Male population 45-49',\n",
       "       'Male population 50-54', 'Male population 55-59',\n",
       "       'Male population 60-64', 'Male population 65-69',\n",
       "       'Male population 70-74', 'Male population 75-79',\n",
       "       'Male population 80+',\n",
       "       'Malnutrition prevalence, height for age (% of children under 5)',\n",
       "       'Malnutrition prevalence, height for age, female (% of children under 5)',\n",
       "       'Malnutrition prevalence, height for age, male (% of children under 5)',\n",
       "       'Malnutrition prevalence, weight for age (% of children under 5)',\n",
       "       'Malnutrition prevalence, weight for age, female (% of children under 5)',\n",
       "       'Malnutrition prevalence, weight for age, male (% of children under 5)',\n",
       "       'Maternal leave benefits (% of wages paid in covered period)',\n",
       "       'Maternal mortality ratio (modeled estimate, per 100,000 live births)',\n",
       "       'Maternal mortality ratio (national estimate, per 100,000 live births)',\n",
       "       'Mortality caused by road traffic injury (per 100,000 people)',\n",
       "       'Mortality rate, adult, female (per 1,000 female adults)',\n",
       "       'Mortality rate, adult, male (per 1,000 male adults)',\n",
       "       'Mortality rate, infant (per 1,000 live births)',\n",
       "       'Mortality rate, infant, female (per 1,000 live births)',\n",
       "       'Mortality rate, infant, male (per 1,000 live births)',\n",
       "       'Mortality rate, neonatal (per 1,000 live births)',\n",
       "       'Mortality rate, under-5 (per 1,000)',\n",
       "       'Mortality rate, under-5, female (per 1,000)',\n",
       "       'Mortality rate, under-5, male (per 1,000)', 'Net migration',\n",
       "       'Newborns protected against tetanus (%)',\n",
       "       'Number of infant deaths', 'Number of maternal deaths',\n",
       "       'Number of neonatal deaths',\n",
       "       'Number of people who are undernourished',\n",
       "       'Number of surgical procedures (per 100,000 population)',\n",
       "       'Number of under-five deaths',\n",
       "       'Number of weeks of maternity leave',\n",
       "       'Nurses and midwives (per 1,000 people)',\n",
       "       'Out-of-pocket health expenditure (% of private expenditure on health)',\n",
       "       'Out-of-pocket health expenditure (% of total expenditure on health)',\n",
       "       'People practicing open defecation (% of population)',\n",
       "       'People practicing open defecation, rural (% of rural population)',\n",
       "       'People practicing open defecation, urban (% of urban population)',\n",
       "       'Physicians (per 1,000 people)',\n",
       "       'Population ages 00-04, female (% of female population)',\n",
       "       'Population ages 00-04, male (% of male population)',\n",
       "       'Population ages 00-14 (% of total)',\n",
       "       'Population ages 00-14, female (% of total)',\n",
       "       'Population ages 00-14, male (% of total)',\n",
       "       'Population ages 00-14, total', 'Population ages 0-14, female',\n",
       "       'Population ages 0-14, male',\n",
       "       'Population ages 05-09, female (% of female population)',\n",
       "       'Population ages 05-09, male (% of male population)',\n",
       "       'Population ages 10-14, female (% of female population)',\n",
       "       'Population ages 15-19, female (% of female population)',\n",
       "       'Population ages 15-19, male (% of male population)',\n",
       "       'Population ages 15-64 (% of total)',\n",
       "       'Population ages 15-64, female',\n",
       "       'Population ages 15-64, female (% of total)',\n",
       "       'Population ages 15-64, male',\n",
       "       'Population ages 15-64, male (% of total)',\n",
       "       'Population ages 15-64, total',\n",
       "       'Population ages 20-24, female (% of female population)',\n",
       "       'Population ages 20-24, male (% of male population)',\n",
       "       'Population ages 25-29, female (% of female population)',\n",
       "       'Population ages 25-29, male (% of male population)',\n",
       "       'Population ages 30-34, female (% of female population)',\n",
       "       'Population ages 30-34, male (% of male population)',\n",
       "       'Population ages 35-39, female (% of female population)',\n",
       "       'Population ages 35-39, male (% of male population)',\n",
       "       'Population ages 40-44, female (% of female population)',\n",
       "       'Population ages 40-44, male (% of male population)',\n",
       "       'Population ages 45-49, female (% of female population)',\n",
       "       'Population ages 45-49, male (% of male population)',\n",
       "       'Population ages 50-54, female (% of female population)',\n",
       "       'Population ages 50-54, male (% of male population)',\n",
       "       'Population ages 55-59, female (% of female population)',\n",
       "       'Population ages 55-59, male (% of male population)',\n",
       "       'Population ages 60-64, female (% of female population)',\n",
       "       'Population ages 60-64, male (% of male population)',\n",
       "       'Population ages 65 and above (% of total)',\n",
       "       'Population ages 65 and above, female',\n",
       "       'Population ages 65 and above, female (% of total)',\n",
       "       'Population ages 65 and above, male',\n",
       "       'Population ages 65 and above, male (% of total)',\n",
       "       'Population ages 65 and above, total',\n",
       "       'Population ages 65-69, female (% of female population)',\n",
       "       'Population ages 65-69, male (% of male population)',\n",
       "       'Population ages 70-74, female (% of female population)',\n",
       "       'Population ages 70-74, male (% of male population)',\n",
       "       'Population ages 75-79, female (% of female population)',\n",
       "       'Population ages 75-79, male (% of male population)',\n",
       "       'Population ages 80 and older, female (% of female population)',\n",
       "       'Population ages 80 and older, male (% of male population)',\n",
       "       'Population ages10-14, male (% of male population)',\n",
       "       'Population growth (annual %)', 'Population, female',\n",
       "       'Population, female (% of total)', 'Population, male',\n",
       "       'Population, male (% of total)', 'Population, total',\n",
       "       'Postnatal care coverage (% mothers)',\n",
       "       'Poverty headcount ratio at national poverty line (% of population)',\n",
       "       'Pregnant women receiving prenatal care (%)',\n",
       "       'Pregnant women receiving prenatal care of at least four visits (% of pregnant women)',\n",
       "       'Prevalence of anemia among children (% of children under 5)',\n",
       "       'Prevalence of anemia among non-pregnant women (% of women ages 15-49)',\n",
       "       'Prevalence of anemia among pregnant women (%)',\n",
       "       'Prevalence of anemia among women of reproductive age (% of women ages 15-49)',\n",
       "       'Prevalence of HIV, female (% ages 15-24)',\n",
       "       'Prevalence of HIV, male (% ages 15-24)',\n",
       "       'Prevalence of HIV, total (% of population ages 15-49)',\n",
       "       'Prevalence of overweight (% of adults)',\n",
       "       'Prevalence of overweight (% of children under 5)',\n",
       "       'Prevalence of overweight, female (% of children under 5)',\n",
       "       'Prevalence of overweight, female (% of female adults)',\n",
       "       'Prevalence of overweight, male (% of children under 5)',\n",
       "       'Prevalence of overweight, male (% of male adults)',\n",
       "       'Prevalence of severe wasting, weight for height (% of children under 5)',\n",
       "       'Prevalence of severe wasting, weight for height, female (% of children under 5)',\n",
       "       'Prevalence of severe wasting, weight for height, male (% of children under 5)',\n",
       "       'Prevalence of syphilis (% of women attending antenatal care)',\n",
       "       'Prevalence of tuberculosis (per 100,000 population)',\n",
       "       'Prevalence of undernourishment (% of population)',\n",
       "       'Prevalence of wasting (% of children under 5)',\n",
       "       'Prevalence of wasting, female (% of children under 5)',\n",
       "       'Prevalence of wasting, male (% of children under 5)',\n",
       "       'Primary completion rate, female (% of relevant age group)',\n",
       "       'Primary completion rate, male (% of relevant age group)',\n",
       "       'Primary completion rate, total (% of relevant age group)',\n",
       "       'Public spending on education, total (% of GDP)',\n",
       "       'Ratio of school attendance of orphans to school attendance of non-orphans ages 10-14',\n",
       "       'Ratio of young literate females to males (% ages 15-24)',\n",
       "       'Risk of catastrophic expenditure for surgical care (% of people at risk)',\n",
       "       'Risk of impoverishing expenditure for surgical care (% of people at risk)',\n",
       "       'Rural population', 'Rural population (% of total population)',\n",
       "       'Rural population growth (annual %)',\n",
       "       'Rural poverty headcount ratio at national poverty lines (% of rural population)',\n",
       "       'School enrollment, primary (% gross)',\n",
       "       'School enrollment, primary (% net)',\n",
       "       'School enrollment, primary, female (% gross)',\n",
       "       'School enrollment, primary, female (% net)',\n",
       "       'School enrollment, primary, male (% gross)',\n",
       "       'School enrollment, primary, male (% net)',\n",
       "       'School enrollment, secondary (% gross)',\n",
       "       'School enrollment, secondary (% net)',\n",
       "       'School enrollment, secondary, female (% gross)',\n",
       "       'School enrollment, secondary, female (% net)',\n",
       "       'School enrollment, secondary, male (% gross)',\n",
       "       'School enrollment, secondary, male (% net)',\n",
       "       'School enrollment, tertiary (% gross)',\n",
       "       'School enrollment, tertiary, female (% gross)',\n",
       "       'Sex ratio at birth (male births per female births)',\n",
       "       'Share of women employed in the nonagricultural sector (% of total nonagricultural employment)',\n",
       "       'Smoking prevalence, females (% of adults)',\n",
       "       'Smoking prevalence, males (% of adults)',\n",
       "       'Specialist surgical workforce (per 100,000 population)',\n",
       "       'Survival to age 65, female (% of cohort)',\n",
       "       'Survival to age 65, male (% of cohort)',\n",
       "       'Teenage mothers (% of women ages 15-19 who have had children or are currently pregnant)',\n",
       "       'Tuberculosis case detection rate (all forms)',\n",
       "       'Tuberculosis death rate (per 100,000 people)',\n",
       "       'Tuberculosis treatment success rate (% of new cases)',\n",
       "       'Unemployment, female (% of female labor force)',\n",
       "       'Unemployment, male (% of male labor force)',\n",
       "       'Unemployment, total (% of total labor force)',\n",
       "       'Unmet need for contraception (% of married women ages 15-49)',\n",
       "       'Urban population', 'Urban population (% of total)',\n",
       "       'Urban population growth (annual %)',\n",
       "       'Urban poverty headcount ratio at national poverty lines (% of urban population)',\n",
       "       'Use of any antimalarial drug (% of pregnant women)',\n",
       "       'Use of insecticide-treated bed nets (% of under-5 population)',\n",
       "       'Use of Intermittent Preventive Treatment of malaria, 2+ doses of SP/Fansidar (% of pregnant women)',\n",
       "       'Vitamin A supplementation coverage rate (% of children ages 6-59 months)',\n",
       "       'Wanted fertility rate (births per woman)',\n",
       "       \"Women's share of population ages 15+ living with HIV (%)\"],\n",
       "      dtype=object)"
      ]
     },
     "execution_count": 13,
     "metadata": {},
     "output_type": "execute_result"
    }
   ],
   "source": [
    "usa_df['Indicator Name'].unique()"
   ]
  },
  {
   "cell_type": "markdown",
   "id": "7df76513-1d3e-439a-8a2a-e60bf894e95a",
   "metadata": {},
   "source": [
    "What types of 'Indicator Names' would be interesting to compare against? Let's start with 'Birth Rate' and go from there."
   ]
  },
  {
   "cell_type": "code",
   "execution_count": 14,
   "id": "1f5ce77c-f4c9-4389-9b93-5ddf43111a50",
   "metadata": {},
   "outputs": [
    {
     "data": {
      "text/html": [
       "<div>\n",
       "<style scoped>\n",
       "    .dataframe tbody tr th:only-of-type {\n",
       "        vertical-align: middle;\n",
       "    }\n",
       "\n",
       "    .dataframe tbody tr th {\n",
       "        vertical-align: top;\n",
       "    }\n",
       "\n",
       "    .dataframe thead th {\n",
       "        text-align: right;\n",
       "    }\n",
       "</style>\n",
       "<table border=\"1\" class=\"dataframe\">\n",
       "  <thead>\n",
       "    <tr style=\"text-align: right;\">\n",
       "      <th></th>\n",
       "      <th>Country Name</th>\n",
       "      <th>Country Code</th>\n",
       "      <th>Indicator Name</th>\n",
       "      <th>Indicator Code</th>\n",
       "      <th>1960</th>\n",
       "      <th>1961</th>\n",
       "      <th>1962</th>\n",
       "      <th>1963</th>\n",
       "      <th>1964</th>\n",
       "      <th>1965</th>\n",
       "      <th>...</th>\n",
       "      <th>2006</th>\n",
       "      <th>2007</th>\n",
       "      <th>2008</th>\n",
       "      <th>2009</th>\n",
       "      <th>2010</th>\n",
       "      <th>2011</th>\n",
       "      <th>2012</th>\n",
       "      <th>2013</th>\n",
       "      <th>2014</th>\n",
       "      <th>2015</th>\n",
       "    </tr>\n",
       "  </thead>\n",
       "  <tbody>\n",
       "    <tr>\n",
       "      <th>68</th>\n",
       "      <td>United States</td>\n",
       "      <td>USA</td>\n",
       "      <td>Birth rate, crude (per 1,000 people)</td>\n",
       "      <td>SP.DYN.CBRT.IN</td>\n",
       "      <td>23.7</td>\n",
       "      <td>23.3</td>\n",
       "      <td>22.4</td>\n",
       "      <td>21.7</td>\n",
       "      <td>21.1</td>\n",
       "      <td>19.4</td>\n",
       "      <td>...</td>\n",
       "      <td>14.3</td>\n",
       "      <td>14.3</td>\n",
       "      <td>14.0</td>\n",
       "      <td>13.5</td>\n",
       "      <td>13.0</td>\n",
       "      <td>12.7</td>\n",
       "      <td>12.6</td>\n",
       "      <td>12.4</td>\n",
       "      <td>12.5</td>\n",
       "      <td>NaN</td>\n",
       "    </tr>\n",
       "  </tbody>\n",
       "</table>\n",
       "<p>1 rows × 60 columns</p>\n",
       "</div>"
      ],
      "text/plain": [
       "     Country Name Country Code                        Indicator Name  \\\n",
       "68  United States          USA  Birth rate, crude (per 1,000 people)   \n",
       "\n",
       "    Indicator Code  1960  1961  1962  1963  1964  1965  ...  2006  2007  2008  \\\n",
       "68  SP.DYN.CBRT.IN  23.7  23.3  22.4  21.7  21.1  19.4  ...  14.3  14.3  14.0   \n",
       "\n",
       "    2009  2010  2011  2012  2013  2014  2015  \n",
       "68  13.5  13.0  12.7  12.6  12.4  12.5   NaN  \n",
       "\n",
       "[1 rows x 60 columns]"
      ]
     },
     "execution_count": 14,
     "metadata": {},
     "output_type": "execute_result"
    }
   ],
   "source": [
    "# return a dataframe where 'Indicator Name' == 'Birth rate, crude (per 1,000 people)'\n",
    "us_birth_rate = usa_df[usa_df['Indicator Name'] == 'Birth rate, crude (per 1,000 people)']\n",
    "us_birth_rate"
   ]
  },
  {
   "cell_type": "code",
   "execution_count": 15,
   "id": "5b20ee40-17f9-4e53-86ca-980c31fef3b9",
   "metadata": {},
   "outputs": [
    {
     "data": {
      "text/plain": [
       "pandas.core.frame.DataFrame"
      ]
     },
     "execution_count": 15,
     "metadata": {},
     "output_type": "execute_result"
    }
   ],
   "source": [
    "type(us_birth_rate)"
   ]
  },
  {
   "cell_type": "code",
   "execution_count": 16,
   "id": "72d6fca5-df24-4572-b171-2ab431bb016c",
   "metadata": {},
   "outputs": [
    {
     "data": {
      "text/plain": [
       "(1, 60)"
      ]
     },
     "execution_count": 16,
     "metadata": {},
     "output_type": "execute_result"
    }
   ],
   "source": [
    "us_birth_rate.shape"
   ]
  },
  {
   "cell_type": "markdown",
   "id": "b6fb1b80-7526-42ed-8087-31a7f9daf875",
   "metadata": {},
   "source": [
    "Looks like there is at least one NaN value. Let's check the DataFrame (by column) if there are more missing values before we try plotting."
   ]
  },
  {
   "cell_type": "code",
   "execution_count": 17,
   "id": "031bd93c-cd17-428e-b0b4-2226e536ee7d",
   "metadata": {},
   "outputs": [
    {
     "data": {
      "text/plain": [
       "Country Name      0\n",
       "Country Code      0\n",
       "Indicator Name    0\n",
       "Indicator Code    0\n",
       "1960              0\n",
       "1961              0\n",
       "1962              0\n",
       "1963              0\n",
       "1964              0\n",
       "1965              0\n",
       "1966              0\n",
       "1967              0\n",
       "1968              0\n",
       "1969              0\n",
       "1970              0\n",
       "1971              0\n",
       "1972              0\n",
       "1973              0\n",
       "1974              0\n",
       "1975              0\n",
       "1976              0\n",
       "1977              0\n",
       "1978              0\n",
       "1979              0\n",
       "1980              0\n",
       "1981              0\n",
       "1982              0\n",
       "1983              0\n",
       "1984              0\n",
       "1985              0\n",
       "1986              0\n",
       "1987              0\n",
       "1988              0\n",
       "1989              0\n",
       "1990              0\n",
       "1991              0\n",
       "1992              0\n",
       "1993              0\n",
       "1994              0\n",
       "1995              0\n",
       "1996              0\n",
       "1997              0\n",
       "1998              0\n",
       "1999              0\n",
       "2000              0\n",
       "2001              0\n",
       "2002              0\n",
       "2003              0\n",
       "2004              0\n",
       "2005              0\n",
       "2006              0\n",
       "2007              0\n",
       "2008              0\n",
       "2009              0\n",
       "2010              0\n",
       "2011              0\n",
       "2012              0\n",
       "2013              0\n",
       "2014              0\n",
       "2015              1\n",
       "dtype: int64"
      ]
     },
     "execution_count": 17,
     "metadata": {},
     "output_type": "execute_result"
    }
   ],
   "source": [
    "# check for NaN values and sum by column\n",
    "us_birth_rate.isna().sum()"
   ]
  },
  {
   "cell_type": "markdown",
   "id": "84258445-3412-483f-83fa-248509e28d22",
   "metadata": {},
   "source": [
    "There's just the one NaN value for '2015'. This shouldn't impact our plot much."
   ]
  },
  {
   "cell_type": "code",
   "execution_count": 18,
   "id": "302faaaf-3ae3-44c0-9614-c3eff1ea150a",
   "metadata": {},
   "outputs": [
    {
     "data": {
      "text/plain": [
       "<Axes: >"
      ]
     },
     "execution_count": 18,
     "metadata": {},
     "output_type": "execute_result"
    },
    {
     "data": {
      "image/png": "[encoded data removed]",
      "text/plain": [
       "<Figure size 640x480 with 1 Axes>"
      ]
     },
     "metadata": {},
     "output_type": "display_data"
    }
   ],
   "source": [
    "us_birth_rate.plot()"
   ]
  },
  {
   "cell_type": "markdown",
   "id": "52603e99-fbb7-4e05-b2a6-4b99a97a3555",
   "metadata": {},
   "source": [
    "Hmmm....that's not what we expected. There's a \"line\" for eadh year. What we want is for years to be on the x-axis and the corresponding values on the y-axis. What if we slice the data to return the years and their corresponding values?"
   ]
  },
  {
   "cell_type": "code",
   "execution_count": 19,
   "id": "c2d9f03d-64ca-4030-8c2b-c1c42c3061f1",
   "metadata": {},
   "outputs": [
    {
     "data": {
      "text/plain": [
       "1960    23.7\n",
       "1961    23.3\n",
       "1962    22.4\n",
       "1963    21.7\n",
       "1964    21.1\n",
       "Name: 68, dtype: object"
      ]
     },
     "execution_count": 19,
     "metadata": {},
     "output_type": "execute_result"
    }
   ],
   "source": [
    "# return all columns, beginning with the 4th indexed column, from the zero indexed row\n",
    "us_birth_rate.iloc[0,4:].head()"
   ]
  },
  {
   "cell_type": "code",
   "execution_count": 20,
   "id": "f0188a51-7342-4925-847b-643164cb7533",
   "metadata": {},
   "outputs": [
    {
     "data": {
      "text/plain": [
       "pandas.core.series.Series"
      ]
     },
     "execution_count": 20,
     "metadata": {},
     "output_type": "execute_result"
    }
   ],
   "source": [
    "type(us_birth_rate.iloc[0,4:])"
   ]
  },
  {
   "cell_type": "code",
   "execution_count": 21,
   "id": "2d8fbc1f-f5fa-434b-998d-ea3cb58cc672",
   "metadata": {},
   "outputs": [
    {
     "data": {
      "text/plain": [
       "(56,)"
      ]
     },
     "execution_count": 21,
     "metadata": {},
     "output_type": "execute_result"
    }
   ],
   "source": [
    "us_birth_rate.iloc[0,4:].shape"
   ]
  },
  {
   "cell_type": "code",
   "execution_count": 22,
   "id": "5dd5e0bb-8e47-4e24-b7cc-9c683e38714d",
   "metadata": {},
   "outputs": [
    {
     "data": {
      "text/plain": [
       "Index(['1960', '1961', '1962', '1963', '1964', '1965', '1966', '1967', '1968',\n",
       "       '1969', '1970', '1971', '1972', '1973', '1974', '1975', '1976', '1977',\n",
       "       '1978', '1979', '1980', '1981', '1982', '1983', '1984', '1985', '1986',\n",
       "       '1987', '1988', '1989', '1990', '1991', '1992', '1993', '1994', '1995',\n",
       "       '1996', '1997', '1998', '1999', '2000', '2001', '2002', '2003', '2004',\n",
       "       '2005', '2006', '2007', '2008', '2009', '2010', '2011', '2012', '2013',\n",
       "       '2014', '2015'],\n",
       "      dtype='object')"
      ]
     },
     "execution_count": 22,
     "metadata": {},
     "output_type": "execute_result"
    }
   ],
   "source": [
    "us_birth_rate.iloc[0,4:].index"
   ]
  },
  {
   "cell_type": "markdown",
   "id": "45caa2cc-fb57-42d6-8992-f2ab6791bf3b",
   "metadata": {},
   "source": [
    "Great! Now let's try using `.plot()` on the Series"
   ]
  },
  {
   "cell_type": "code",
   "execution_count": 23,
   "id": "17d7781e-e58b-4b31-9dab-0eba81265f54",
   "metadata": {},
   "outputs": [
    {
     "data": {
      "text/plain": [
       "<Axes: >"
      ]
     },
     "execution_count": 23,
     "metadata": {},
     "output_type": "execute_result"
    },
    {
     "data": {
      "image/png": "[encoded data removed]",
      "text/plain": [
       "<Figure size 640x480 with 1 Axes>"
      ]
     },
     "metadata": {},
     "output_type": "display_data"
    }
   ],
   "source": [
    "us_birth_rate.iloc[0,4:].plot()"
   ]
  },
  {
   "cell_type": "markdown",
   "id": "fabc5d6d-22bc-47ca-8258-edc651c6214a",
   "metadata": {},
   "source": [
    "Niceeee! Looks like `.plot()`, by default, will assign index values on the x-axis. Good to know!"
   ]
  },
  {
   "cell_type": "markdown",
   "id": "18cba742-89bc-4de6-9101-a2f6a18049bd",
   "metadata": {},
   "source": [
    "Now let's revisit `us_bith_rate`."
   ]
  },
  {
   "cell_type": "code",
   "execution_count": 24,
   "id": "d1608cdb-640a-4aa2-b153-1766c9036819",
   "metadata": {},
   "outputs": [
    {
     "data": {
      "text/html": [
       "<div>\n",
       "<style scoped>\n",
       "    .dataframe tbody tr th:only-of-type {\n",
       "        vertical-align: middle;\n",
       "    }\n",
       "\n",
       "    .dataframe tbody tr th {\n",
       "        vertical-align: top;\n",
       "    }\n",
       "\n",
       "    .dataframe thead th {\n",
       "        text-align: right;\n",
       "    }\n",
       "</style>\n",
       "<table border=\"1\" class=\"dataframe\">\n",
       "  <thead>\n",
       "    <tr style=\"text-align: right;\">\n",
       "      <th></th>\n",
       "      <th>Country Name</th>\n",
       "      <th>Country Code</th>\n",
       "      <th>Indicator Name</th>\n",
       "      <th>Indicator Code</th>\n",
       "      <th>1960</th>\n",
       "      <th>1961</th>\n",
       "      <th>1962</th>\n",
       "      <th>1963</th>\n",
       "      <th>1964</th>\n",
       "      <th>1965</th>\n",
       "      <th>...</th>\n",
       "      <th>2006</th>\n",
       "      <th>2007</th>\n",
       "      <th>2008</th>\n",
       "      <th>2009</th>\n",
       "      <th>2010</th>\n",
       "      <th>2011</th>\n",
       "      <th>2012</th>\n",
       "      <th>2013</th>\n",
       "      <th>2014</th>\n",
       "      <th>2015</th>\n",
       "    </tr>\n",
       "  </thead>\n",
       "  <tbody>\n",
       "    <tr>\n",
       "      <th>68</th>\n",
       "      <td>United States</td>\n",
       "      <td>USA</td>\n",
       "      <td>Birth rate, crude (per 1,000 people)</td>\n",
       "      <td>SP.DYN.CBRT.IN</td>\n",
       "      <td>23.7</td>\n",
       "      <td>23.3</td>\n",
       "      <td>22.4</td>\n",
       "      <td>21.7</td>\n",
       "      <td>21.1</td>\n",
       "      <td>19.4</td>\n",
       "      <td>...</td>\n",
       "      <td>14.3</td>\n",
       "      <td>14.3</td>\n",
       "      <td>14.0</td>\n",
       "      <td>13.5</td>\n",
       "      <td>13.0</td>\n",
       "      <td>12.7</td>\n",
       "      <td>12.6</td>\n",
       "      <td>12.4</td>\n",
       "      <td>12.5</td>\n",
       "      <td>NaN</td>\n",
       "    </tr>\n",
       "  </tbody>\n",
       "</table>\n",
       "<p>1 rows × 60 columns</p>\n",
       "</div>"
      ],
      "text/plain": [
       "     Country Name Country Code                        Indicator Name  \\\n",
       "68  United States          USA  Birth rate, crude (per 1,000 people)   \n",
       "\n",
       "    Indicator Code  1960  1961  1962  1963  1964  1965  ...  2006  2007  2008  \\\n",
       "68  SP.DYN.CBRT.IN  23.7  23.3  22.4  21.7  21.1  19.4  ...  14.3  14.3  14.0   \n",
       "\n",
       "    2009  2010  2011  2012  2013  2014  2015  \n",
       "68  13.5  13.0  12.7  12.6  12.4  12.5   NaN  \n",
       "\n",
       "[1 rows x 60 columns]"
      ]
     },
     "execution_count": 24,
     "metadata": {},
     "output_type": "execute_result"
    }
   ],
   "source": [
    "us_birth_rate"
   ]
  },
  {
   "cell_type": "markdown",
   "id": "26c78477-9684-481b-9f86-bbfa2251abe0",
   "metadata": {},
   "source": [
    "What would if we transpose the DataFrame so that the years are indexed as rows, and then use `.plot()` + `.iloc`?"
   ]
  },
  {
   "cell_type": "code",
   "execution_count": 25,
   "id": "f8c06ae6-d036-43d1-acf6-009932914b5e",
   "metadata": {},
   "outputs": [
    {
     "data": {
      "text/html": [
       "<div>\n",
       "<style scoped>\n",
       "    .dataframe tbody tr th:only-of-type {\n",
       "        vertical-align: middle;\n",
       "    }\n",
       "\n",
       "    .dataframe tbody tr th {\n",
       "        vertical-align: top;\n",
       "    }\n",
       "\n",
       "    .dataframe thead th {\n",
       "        text-align: right;\n",
       "    }\n",
       "</style>\n",
       "<table border=\"1\" class=\"dataframe\">\n",
       "  <thead>\n",
       "    <tr style=\"text-align: right;\">\n",
       "      <th></th>\n",
       "      <th>68</th>\n",
       "    </tr>\n",
       "  </thead>\n",
       "  <tbody>\n",
       "    <tr>\n",
       "      <th>Country Name</th>\n",
       "      <td>United States</td>\n",
       "    </tr>\n",
       "    <tr>\n",
       "      <th>Country Code</th>\n",
       "      <td>USA</td>\n",
       "    </tr>\n",
       "    <tr>\n",
       "      <th>Indicator Name</th>\n",
       "      <td>Birth rate, crude (per 1,000 people)</td>\n",
       "    </tr>\n",
       "    <tr>\n",
       "      <th>Indicator Code</th>\n",
       "      <td>SP.DYN.CBRT.IN</td>\n",
       "    </tr>\n",
       "    <tr>\n",
       "      <th>1960</th>\n",
       "      <td>23.7</td>\n",
       "    </tr>\n",
       "    <tr>\n",
       "      <th>1961</th>\n",
       "      <td>23.3</td>\n",
       "    </tr>\n",
       "    <tr>\n",
       "      <th>1962</th>\n",
       "      <td>22.4</td>\n",
       "    </tr>\n",
       "    <tr>\n",
       "      <th>1963</th>\n",
       "      <td>21.7</td>\n",
       "    </tr>\n",
       "    <tr>\n",
       "      <th>1964</th>\n",
       "      <td>21.1</td>\n",
       "    </tr>\n",
       "    <tr>\n",
       "      <th>1965</th>\n",
       "      <td>19.4</td>\n",
       "    </tr>\n",
       "  </tbody>\n",
       "</table>\n",
       "</div>"
      ],
      "text/plain": [
       "                                                  68\n",
       "Country Name                           United States\n",
       "Country Code                                     USA\n",
       "Indicator Name  Birth rate, crude (per 1,000 people)\n",
       "Indicator Code                        SP.DYN.CBRT.IN\n",
       "1960                                            23.7\n",
       "1961                                            23.3\n",
       "1962                                            22.4\n",
       "1963                                            21.7\n",
       "1964                                            21.1\n",
       "1965                                            19.4"
      ]
     },
     "execution_count": 25,
     "metadata": {},
     "output_type": "execute_result"
    }
   ],
   "source": [
    "us_birth_rate.transpose().head(10)"
   ]
  },
  {
   "cell_type": "code",
   "execution_count": 26,
   "id": "5dce107e-c3e8-433c-a54f-5066228d7860",
   "metadata": {},
   "outputs": [
    {
     "data": {
      "text/plain": [
       "(60, 1)"
      ]
     },
     "execution_count": 26,
     "metadata": {},
     "output_type": "execute_result"
    }
   ],
   "source": [
    "us_birth_rate.transpose().shape"
   ]
  },
  {
   "cell_type": "code",
   "execution_count": 27,
   "id": "1e823d6f-8ecd-40c2-934d-4157705cac4d",
   "metadata": {},
   "outputs": [
    {
     "data": {
      "text/plain": [
       "<Axes: >"
      ]
     },
     "execution_count": 27,
     "metadata": {},
     "output_type": "execute_result"
    },
    {
     "data": {
      "image/png": "[encoded data removed]",
      "text/plain": [
       "<Figure size 640x480 with 1 Axes>"
      ]
     },
     "metadata": {},
     "output_type": "display_data"
    }
   ],
   "source": [
    "us_birth_rate.transpose().iloc[4:].plot()"
   ]
  },
  {
   "cell_type": "markdown",
   "id": "bd56ac28-7b1d-4ff0-bf8c-e3ffefe41d2b",
   "metadata": {},
   "source": [
    "Awesome! However, `.plot()` has assigned the column name '68' as the name of our line. Let's rename that to our desired column name using `.rename()`."
   ]
  },
  {
   "cell_type": "code",
   "execution_count": 28,
   "id": "626bf47d-94ff-4d6e-b451-372aa3d4c109",
   "metadata": {},
   "outputs": [
    {
     "data": {
      "text/html": [
       "<div>\n",
       "<style scoped>\n",
       "    .dataframe tbody tr th:only-of-type {\n",
       "        vertical-align: middle;\n",
       "    }\n",
       "\n",
       "    .dataframe tbody tr th {\n",
       "        vertical-align: top;\n",
       "    }\n",
       "\n",
       "    .dataframe thead th {\n",
       "        text-align: right;\n",
       "    }\n",
       "</style>\n",
       "<table border=\"1\" class=\"dataframe\">\n",
       "  <thead>\n",
       "    <tr style=\"text-align: right;\">\n",
       "      <th></th>\n",
       "      <th>68</th>\n",
       "    </tr>\n",
       "  </thead>\n",
       "  <tbody>\n",
       "    <tr>\n",
       "      <th>1960</th>\n",
       "      <td>23.7</td>\n",
       "    </tr>\n",
       "    <tr>\n",
       "      <th>1961</th>\n",
       "      <td>23.3</td>\n",
       "    </tr>\n",
       "    <tr>\n",
       "      <th>1962</th>\n",
       "      <td>22.4</td>\n",
       "    </tr>\n",
       "    <tr>\n",
       "      <th>1963</th>\n",
       "      <td>21.7</td>\n",
       "    </tr>\n",
       "    <tr>\n",
       "      <th>1964</th>\n",
       "      <td>21.1</td>\n",
       "    </tr>\n",
       "  </tbody>\n",
       "</table>\n",
       "</div>"
      ],
      "text/plain": [
       "        68\n",
       "1960  23.7\n",
       "1961  23.3\n",
       "1962  22.4\n",
       "1963  21.7\n",
       "1964  21.1"
      ]
     },
     "execution_count": 28,
     "metadata": {},
     "output_type": "execute_result"
    }
   ],
   "source": [
    "us_birth_rate.transpose().iloc[4:].head()"
   ]
  },
  {
   "cell_type": "code",
   "execution_count": 29,
   "id": "8721ca0e-2a30-4bd4-9538-129b790a6f09",
   "metadata": {},
   "outputs": [
    {
     "data": {
      "text/html": [
       "<div>\n",
       "<style scoped>\n",
       "    .dataframe tbody tr th:only-of-type {\n",
       "        vertical-align: middle;\n",
       "    }\n",
       "\n",
       "    .dataframe tbody tr th {\n",
       "        vertical-align: top;\n",
       "    }\n",
       "\n",
       "    .dataframe thead th {\n",
       "        text-align: right;\n",
       "    }\n",
       "</style>\n",
       "<table border=\"1\" class=\"dataframe\">\n",
       "  <thead>\n",
       "    <tr style=\"text-align: right;\">\n",
       "      <th></th>\n",
       "      <th>Birth rate, crude (per 1,000 people)</th>\n",
       "    </tr>\n",
       "  </thead>\n",
       "  <tbody>\n",
       "    <tr>\n",
       "      <th>1960</th>\n",
       "      <td>23.7</td>\n",
       "    </tr>\n",
       "    <tr>\n",
       "      <th>1961</th>\n",
       "      <td>23.3</td>\n",
       "    </tr>\n",
       "    <tr>\n",
       "      <th>1962</th>\n",
       "      <td>22.4</td>\n",
       "    </tr>\n",
       "    <tr>\n",
       "      <th>1963</th>\n",
       "      <td>21.7</td>\n",
       "    </tr>\n",
       "    <tr>\n",
       "      <th>1964</th>\n",
       "      <td>21.1</td>\n",
       "    </tr>\n",
       "  </tbody>\n",
       "</table>\n",
       "</div>"
      ],
      "text/plain": [
       "     Birth rate, crude (per 1,000 people)\n",
       "1960                                 23.7\n",
       "1961                                 23.3\n",
       "1962                                 22.4\n",
       "1963                                 21.7\n",
       "1964                                 21.1"
      ]
     },
     "execution_count": 29,
     "metadata": {},
     "output_type": "execute_result"
    }
   ],
   "source": [
    "us_birth_rate.transpose().iloc[4:].rename(columns={68:'Birth rate, crude (per 1,000 people)'}).head()"
   ]
  },
  {
   "cell_type": "markdown",
   "id": "1e5a1948-87b1-40bf-90ea-4a23fa91321d",
   "metadata": {},
   "source": [
    "Now let's try plotting again using `.plot()`."
   ]
  },
  {
   "cell_type": "code",
   "execution_count": 30,
   "id": "0726a262-9844-48b7-a87f-1fbc034ef12e",
   "metadata": {},
   "outputs": [
    {
     "data": {
      "text/plain": [
       "<Axes: >"
      ]
     },
     "execution_count": 30,
     "metadata": {},
     "output_type": "execute_result"
    },
    {
     "data": {
      "image/png": "[encoded data removed]",
      "text/plain": [
       "<Figure size 640x480 with 1 Axes>"
      ]
     },
     "metadata": {},
     "output_type": "display_data"
    }
   ],
   "source": [
    "us_birth_rate.transpose().iloc[4:].rename(columns={68:'Birth rate, crude (per 1,000 people)'}).plot()"
   ]
  },
  {
   "cell_type": "markdown",
   "id": "6f95cbe9-f749-419a-a4f5-a9a3b48a68b5",
   "metadata": {},
   "source": [
    "There we go! Using `.plot()` on a Series is the way to go. It looks like we can also `.transpose()` and slice a DataFrame, and use `.rename()` to rename the column (line), despite it requiring more code. "
   ]
  },
  {
   "cell_type": "markdown",
   "id": "18857b5d-ed09-4e73-9791-967b1bd8ae66",
   "metadata": {},
   "source": [
    "There are many ways to return the same desired output. For example, we could have instead used `.set_index()`, `.rename_axis()`, `.drop()`, and `.transpose()` to return our desired DataFrame or Series, prior to applying `.plot()`. See below:"
   ]
  },
  {
   "cell_type": "code",
   "execution_count": 31,
   "id": "4b9d0cad-a51f-4889-b0fb-5a9f8f6eb042",
   "metadata": {},
   "outputs": [
    {
     "data": {
      "text/html": [
       "<div>\n",
       "<style scoped>\n",
       "    .dataframe tbody tr th:only-of-type {\n",
       "        vertical-align: middle;\n",
       "    }\n",
       "\n",
       "    .dataframe tbody tr th {\n",
       "        vertical-align: top;\n",
       "    }\n",
       "\n",
       "    .dataframe thead th {\n",
       "        text-align: right;\n",
       "    }\n",
       "</style>\n",
       "<table border=\"1\" class=\"dataframe\">\n",
       "  <thead>\n",
       "    <tr style=\"text-align: right;\">\n",
       "      <th></th>\n",
       "      <th>Birth rate, crude (per 1,000 people)</th>\n",
       "    </tr>\n",
       "  </thead>\n",
       "  <tbody>\n",
       "    <tr>\n",
       "      <th>1960</th>\n",
       "      <td>23.7</td>\n",
       "    </tr>\n",
       "    <tr>\n",
       "      <th>1961</th>\n",
       "      <td>23.3</td>\n",
       "    </tr>\n",
       "    <tr>\n",
       "      <th>1962</th>\n",
       "      <td>22.4</td>\n",
       "    </tr>\n",
       "    <tr>\n",
       "      <th>1963</th>\n",
       "      <td>21.7</td>\n",
       "    </tr>\n",
       "    <tr>\n",
       "      <th>1964</th>\n",
       "      <td>21.1</td>\n",
       "    </tr>\n",
       "  </tbody>\n",
       "</table>\n",
       "</div>"
      ],
      "text/plain": [
       "      Birth rate, crude (per 1,000 people)\n",
       "1960                                  23.7\n",
       "1961                                  23.3\n",
       "1962                                  22.4\n",
       "1963                                  21.7\n",
       "1964                                  21.1"
      ]
     },
     "execution_count": 31,
     "metadata": {},
     "output_type": "execute_result"
    }
   ],
   "source": [
    "us_birth_rate.set_index('Indicator Name').rename_axis(None).drop(columns=['Country Name', 'Country Code', 'Indicator Code']).transpose().head()"
   ]
  },
  {
   "cell_type": "markdown",
   "id": "42eb7b42-ffde-434d-a656-6f095c7c6309",
   "metadata": {},
   "source": [
    "Anyway, you get it. Using Pandas `.plot()` is a fast and effective way to visualize our data. But what if we wanted more flexibility, such as the ability to add a titel, control line styles, labels, etc? Enter, Matplotlib."
   ]
  },
  {
   "cell_type": "markdown",
   "id": "3fe32e3b-2f9c-4bcc-abe2-6a011d6a3f1d",
   "metadata": {},
   "source": [
    "Matplotlib's module, `Pyplot`, provides a simple and intuitive interface for creating visualizations in Python. Let's start with plotting `us_birth_rate` with `plt`."
   ]
  },
  {
   "cell_type": "code",
   "execution_count": 32,
   "id": "cc7856aa-c856-4bf2-9f6a-9c19869ac81e",
   "metadata": {},
   "outputs": [],
   "source": [
    "import matplotlib.pyplot as plt"
   ]
  },
  {
   "cell_type": "code",
   "execution_count": 33,
   "id": "ed71c319-4cca-4cca-b0bc-43cee812ebd1",
   "metadata": {},
   "outputs": [
    {
     "data": {
      "text/html": [
       "<div>\n",
       "<style scoped>\n",
       "    .dataframe tbody tr th:only-of-type {\n",
       "        vertical-align: middle;\n",
       "    }\n",
       "\n",
       "    .dataframe tbody tr th {\n",
       "        vertical-align: top;\n",
       "    }\n",
       "\n",
       "    .dataframe thead th {\n",
       "        text-align: right;\n",
       "    }\n",
       "</style>\n",
       "<table border=\"1\" class=\"dataframe\">\n",
       "  <thead>\n",
       "    <tr style=\"text-align: right;\">\n",
       "      <th></th>\n",
       "      <th>Country Name</th>\n",
       "      <th>Country Code</th>\n",
       "      <th>Indicator Name</th>\n",
       "      <th>Indicator Code</th>\n",
       "      <th>1960</th>\n",
       "      <th>1961</th>\n",
       "      <th>1962</th>\n",
       "      <th>1963</th>\n",
       "      <th>1964</th>\n",
       "      <th>1965</th>\n",
       "      <th>...</th>\n",
       "      <th>2006</th>\n",
       "      <th>2007</th>\n",
       "      <th>2008</th>\n",
       "      <th>2009</th>\n",
       "      <th>2010</th>\n",
       "      <th>2011</th>\n",
       "      <th>2012</th>\n",
       "      <th>2013</th>\n",
       "      <th>2014</th>\n",
       "      <th>2015</th>\n",
       "    </tr>\n",
       "  </thead>\n",
       "  <tbody>\n",
       "    <tr>\n",
       "      <th>68</th>\n",
       "      <td>United States</td>\n",
       "      <td>USA</td>\n",
       "      <td>Birth rate, crude (per 1,000 people)</td>\n",
       "      <td>SP.DYN.CBRT.IN</td>\n",
       "      <td>23.7</td>\n",
       "      <td>23.3</td>\n",
       "      <td>22.4</td>\n",
       "      <td>21.7</td>\n",
       "      <td>21.1</td>\n",
       "      <td>19.4</td>\n",
       "      <td>...</td>\n",
       "      <td>14.3</td>\n",
       "      <td>14.3</td>\n",
       "      <td>14.0</td>\n",
       "      <td>13.5</td>\n",
       "      <td>13.0</td>\n",
       "      <td>12.7</td>\n",
       "      <td>12.6</td>\n",
       "      <td>12.4</td>\n",
       "      <td>12.5</td>\n",
       "      <td>NaN</td>\n",
       "    </tr>\n",
       "  </tbody>\n",
       "</table>\n",
       "<p>1 rows × 60 columns</p>\n",
       "</div>"
      ],
      "text/plain": [
       "     Country Name Country Code                        Indicator Name  \\\n",
       "68  United States          USA  Birth rate, crude (per 1,000 people)   \n",
       "\n",
       "    Indicator Code  1960  1961  1962  1963  1964  1965  ...  2006  2007  2008  \\\n",
       "68  SP.DYN.CBRT.IN  23.7  23.3  22.4  21.7  21.1  19.4  ...  14.3  14.3  14.0   \n",
       "\n",
       "    2009  2010  2011  2012  2013  2014  2015  \n",
       "68  13.5  13.0  12.7  12.6  12.4  12.5   NaN  \n",
       "\n",
       "[1 rows x 60 columns]"
      ]
     },
     "execution_count": 33,
     "metadata": {},
     "output_type": "execute_result"
    }
   ],
   "source": [
    "us_birth_rate"
   ]
  },
  {
   "cell_type": "markdown",
   "id": "0a3ae1fd-af37-46ec-9219-2cf6766cd9f7",
   "metadata": {},
   "source": [
    "Let's slice the DataFrame to return only the years."
   ]
  },
  {
   "cell_type": "code",
   "execution_count": 34,
   "id": "b60535a5-e189-416f-8073-c194eeb0ebc4",
   "metadata": {},
   "outputs": [
    {
     "data": {
      "text/plain": [
       "1960    23.7\n",
       "1961    23.3\n",
       "1962    22.4\n",
       "1963    21.7\n",
       "1964    21.1\n",
       "Name: 68, dtype: object"
      ]
     },
     "execution_count": 34,
     "metadata": {},
     "output_type": "execute_result"
    }
   ],
   "source": [
    "us_birth_rate.iloc[0, 4:].head()"
   ]
  },
  {
   "cell_type": "code",
   "execution_count": 35,
   "id": "2ac25dad-89c2-45e7-9c03-8b96526c898b",
   "metadata": {},
   "outputs": [
    {
     "data": {
      "text/plain": [
       "pandas.core.series.Series"
      ]
     },
     "execution_count": 35,
     "metadata": {},
     "output_type": "execute_result"
    }
   ],
   "source": [
    "type(us_birth_rate.iloc[0, 4:])"
   ]
  },
  {
   "cell_type": "code",
   "execution_count": 36,
   "id": "5020aa58-d260-4b24-af24-bf3fa48a9ad7",
   "metadata": {},
   "outputs": [
    {
     "data": {
      "text/plain": [
       "array([1960., 1961., 1962., 1963., 1964., 1965., 1966., 1967., 1968.,\n",
       "       1969., 1970., 1971., 1972., 1973., 1974., 1975., 1976., 1977.,\n",
       "       1978., 1979., 1980., 1981., 1982., 1983., 1984., 1985., 1986.,\n",
       "       1987., 1988., 1989., 1990., 1991., 1992., 1993., 1994., 1995.,\n",
       "       1996., 1997., 1998., 1999., 2000., 2001., 2002., 2003., 2004.,\n",
       "       2005., 2006., 2007., 2008., 2009., 2010., 2011., 2012., 2013.,\n",
       "       2014., 2015.])"
      ]
     },
     "execution_count": 36,
     "metadata": {},
     "output_type": "execute_result"
    }
   ],
   "source": [
    "# prep x-values using `np.linspace()`\n",
    "np.linspace(1960, 2015, 56)"
   ]
  },
  {
   "cell_type": "code",
   "execution_count": 37,
   "id": "e4a97d90-19f5-4ee6-964a-aed33c9c9550",
   "metadata": {},
   "outputs": [
    {
     "data": {
      "image/png": "[encoded data removed]",
      "text/plain": [
       "<Figure size 640x480 with 1 Axes>"
      ]
     },
     "metadata": {},
     "output_type": "display_data"
    }
   ],
   "source": [
    "# combine with our y-values (sliced DataFrame containing only years)\n",
    "plt.plot(np.linspace(1960,2015,56), us_birth_rate.iloc[0, 4:])\n",
    "plt.show()"
   ]
  },
  {
   "cell_type": "markdown",
   "id": "5d80b0c2-e9b3-43e8-bbe7-0889c04a32bb",
   "metadata": {},
   "source": [
    "That was simple, similar to Pandas `.plot()`. But unlike `.plot()`, `plt` allows us to further customize our plots. See below:"
   ]
  },
  {
   "cell_type": "code",
   "execution_count": 38,
   "id": "91d2c605-9aea-4f72-b806-b9b559b76d60",
   "metadata": {},
   "outputs": [
    {
     "data": {
      "image/png": "[encoded data removed]",
      "text/plain": [
       "<Figure size 640x480 with 1 Axes>"
      ]
     },
     "metadata": {},
     "output_type": "display_data"
    }
   ],
   "source": [
    "plt.style.use('default')\n",
    "\n",
    "plt.plot(np.linspace(1960,2015,56), us_birth_rate.iloc[0,4:], color='purple', marker='o', mfc='pink', linestyle = 'dashed')\n",
    "plt.title('United States')\n",
    "plt.xlabel('Years')\n",
    "plt.xticks(range(1960,2016,6), rotation=45)\n",
    "plt.ylabel('Birth rate (per 1,000 people)')\n",
    "\n",
    "plt.grid()\n",
    "# plt.show()\n",
    "\n",
    "plt.savefig('../images/us_birth_rate.png')"
   ]
  },
  {
   "cell_type": "markdown",
   "id": "f8083de3-163b-454a-9e6d-bd7d032e1ed7",
   "metadata": {},
   "source": [
    "Fancy, huh?"
   ]
  },
  {
   "cell_type": "markdown",
   "id": "665f4f9f-9d54-4caa-b432-e429fc13a0fb",
   "metadata": {},
   "source": [
    "Let's plot for other 'Indicator Name' values that we think reveal a compelling story."
   ]
  },
  {
   "cell_type": "code",
   "execution_count": 39,
   "id": "e4b8ad22-2687-45cc-a360-ee80a049448c",
   "metadata": {},
   "outputs": [
    {
     "data": {
      "text/html": [
       "<div>\n",
       "<style scoped>\n",
       "    .dataframe tbody tr th:only-of-type {\n",
       "        vertical-align: middle;\n",
       "    }\n",
       "\n",
       "    .dataframe tbody tr th {\n",
       "        vertical-align: top;\n",
       "    }\n",
       "\n",
       "    .dataframe thead th {\n",
       "        text-align: right;\n",
       "    }\n",
       "</style>\n",
       "<table border=\"1\" class=\"dataframe\">\n",
       "  <thead>\n",
       "    <tr style=\"text-align: right;\">\n",
       "      <th></th>\n",
       "      <th>Country Name</th>\n",
       "      <th>Country Code</th>\n",
       "      <th>Indicator Name</th>\n",
       "      <th>Indicator Code</th>\n",
       "      <th>1960</th>\n",
       "      <th>1961</th>\n",
       "      <th>1962</th>\n",
       "      <th>1963</th>\n",
       "      <th>1964</th>\n",
       "      <th>1965</th>\n",
       "      <th>...</th>\n",
       "      <th>2006</th>\n",
       "      <th>2007</th>\n",
       "      <th>2008</th>\n",
       "      <th>2009</th>\n",
       "      <th>2010</th>\n",
       "      <th>2011</th>\n",
       "      <th>2012</th>\n",
       "      <th>2013</th>\n",
       "      <th>2014</th>\n",
       "      <th>2015</th>\n",
       "    </tr>\n",
       "  </thead>\n",
       "  <tbody>\n",
       "    <tr>\n",
       "      <th>91</th>\n",
       "      <td>United States</td>\n",
       "      <td>USA</td>\n",
       "      <td>Death rate, crude (per 1,000 people)</td>\n",
       "      <td>SP.DYN.CDRT.IN</td>\n",
       "      <td>9.5</td>\n",
       "      <td>9.3</td>\n",
       "      <td>9.5</td>\n",
       "      <td>9.6</td>\n",
       "      <td>9.4</td>\n",
       "      <td>9.4</td>\n",
       "      <td>...</td>\n",
       "      <td>8.1</td>\n",
       "      <td>8.0</td>\n",
       "      <td>8.1</td>\n",
       "      <td>7.9</td>\n",
       "      <td>8.0</td>\n",
       "      <td>8.1</td>\n",
       "      <td>8.1</td>\n",
       "      <td>8.1</td>\n",
       "      <td>8.1</td>\n",
       "      <td>NaN</td>\n",
       "    </tr>\n",
       "  </tbody>\n",
       "</table>\n",
       "<p>1 rows × 60 columns</p>\n",
       "</div>"
      ],
      "text/plain": [
       "     Country Name Country Code                        Indicator Name  \\\n",
       "91  United States          USA  Death rate, crude (per 1,000 people)   \n",
       "\n",
       "    Indicator Code  1960  1961  1962  1963  1964  1965  ...  2006  2007  2008  \\\n",
       "91  SP.DYN.CDRT.IN   9.5   9.3   9.5   9.6   9.4   9.4  ...   8.1   8.0   8.1   \n",
       "\n",
       "    2009  2010  2011  2012  2013  2014  2015  \n",
       "91   7.9   8.0   8.1   8.1   8.1   8.1   NaN  \n",
       "\n",
       "[1 rows x 60 columns]"
      ]
     },
     "execution_count": 39,
     "metadata": {},
     "output_type": "execute_result"
    }
   ],
   "source": [
    "# return a dataframe where 'Indicator Name' == 'Death rate, crude (per 1,000 people)'\n",
    "us_death_rate = usa_df[usa_df['Indicator Name'] == 'Death rate, crude (per 1,000 people)']\n",
    "us_death_rate"
   ]
  },
  {
   "cell_type": "code",
   "execution_count": 40,
   "id": "d38a0c51-f474-4646-9af2-d41822800c05",
   "metadata": {},
   "outputs": [
    {
     "data": {
      "text/plain": [
       "Country Name      0\n",
       "Country Code      0\n",
       "Indicator Name    0\n",
       "Indicator Code    0\n",
       "1960              0\n",
       "1961              0\n",
       "1962              0\n",
       "1963              0\n",
       "1964              0\n",
       "1965              0\n",
       "1966              0\n",
       "1967              0\n",
       "1968              0\n",
       "1969              0\n",
       "1970              0\n",
       "1971              0\n",
       "1972              0\n",
       "1973              0\n",
       "1974              0\n",
       "1975              0\n",
       "1976              0\n",
       "1977              0\n",
       "1978              0\n",
       "1979              0\n",
       "1980              0\n",
       "1981              0\n",
       "1982              0\n",
       "1983              0\n",
       "1984              0\n",
       "1985              0\n",
       "1986              0\n",
       "1987              0\n",
       "1988              0\n",
       "1989              0\n",
       "1990              0\n",
       "1991              0\n",
       "1992              0\n",
       "1993              0\n",
       "1994              0\n",
       "1995              0\n",
       "1996              0\n",
       "1997              0\n",
       "1998              0\n",
       "1999              0\n",
       "2000              0\n",
       "2001              0\n",
       "2002              0\n",
       "2003              0\n",
       "2004              0\n",
       "2005              0\n",
       "2006              0\n",
       "2007              0\n",
       "2008              0\n",
       "2009              0\n",
       "2010              0\n",
       "2011              0\n",
       "2012              0\n",
       "2013              0\n",
       "2014              0\n",
       "2015              1\n",
       "dtype: int64"
      ]
     },
     "execution_count": 40,
     "metadata": {},
     "output_type": "execute_result"
    }
   ],
   "source": [
    "# check for NaN values and sum by column\n",
    "us_death_rate.isna().sum()"
   ]
  },
  {
   "cell_type": "code",
   "execution_count": 41,
   "id": "2a611106-cb05-4325-87f0-bfe85c7216d4",
   "metadata": {},
   "outputs": [
    {
     "data": {
      "image/png": "[encoded data removed]",
      "text/plain": [
       "<Figure size 640x480 with 1 Axes>"
      ]
     },
     "metadata": {},
     "output_type": "display_data"
    }
   ],
   "source": [
    "# plot `us_death_rate`\n",
    "plt.plot(np.linspace(1960,2015,56), us_death_rate.iloc[0,4:], color='red', linestyle = 'dashed')\n",
    "plt.title('United States')\n",
    "plt.xlabel('Years')\n",
    "plt.xticks(range(1960,2016,6))\n",
    "plt.ylabel('Death rate (per 1,000 people)')\n",
    "\n",
    "plt.grid()\n",
    "# plt.show()\n",
    "\n",
    "plt.savefig('../images/us_death_rate.png')"
   ]
  },
  {
   "cell_type": "code",
   "execution_count": 42,
   "id": "9ba1ea8c-76e0-450a-92db-ed41ea3a9a1f",
   "metadata": {},
   "outputs": [
    {
     "data": {
      "text/html": [
       "<div>\n",
       "<style scoped>\n",
       "    .dataframe tbody tr th:only-of-type {\n",
       "        vertical-align: middle;\n",
       "    }\n",
       "\n",
       "    .dataframe tbody tr th {\n",
       "        vertical-align: top;\n",
       "    }\n",
       "\n",
       "    .dataframe thead th {\n",
       "        text-align: right;\n",
       "    }\n",
       "</style>\n",
       "<table border=\"1\" class=\"dataframe\">\n",
       "  <thead>\n",
       "    <tr style=\"text-align: right;\">\n",
       "      <th></th>\n",
       "      <th>Country Name</th>\n",
       "      <th>Country Code</th>\n",
       "      <th>Indicator Name</th>\n",
       "      <th>Indicator Code</th>\n",
       "      <th>1960</th>\n",
       "      <th>1961</th>\n",
       "      <th>1962</th>\n",
       "      <th>1963</th>\n",
       "      <th>1964</th>\n",
       "      <th>1965</th>\n",
       "      <th>...</th>\n",
       "      <th>2006</th>\n",
       "      <th>2007</th>\n",
       "      <th>2008</th>\n",
       "      <th>2009</th>\n",
       "      <th>2010</th>\n",
       "      <th>2011</th>\n",
       "      <th>2012</th>\n",
       "      <th>2013</th>\n",
       "      <th>2014</th>\n",
       "      <th>2015</th>\n",
       "    </tr>\n",
       "  </thead>\n",
       "  <tbody>\n",
       "    <tr>\n",
       "      <th>148</th>\n",
       "      <td>United States</td>\n",
       "      <td>USA</td>\n",
       "      <td>Life expectancy at birth, total (years)</td>\n",
       "      <td>SP.DYN.LE00.IN</td>\n",
       "      <td>69.770732</td>\n",
       "      <td>70.270732</td>\n",
       "      <td>70.119512</td>\n",
       "      <td>69.917073</td>\n",
       "      <td>70.165854</td>\n",
       "      <td>70.214634</td>\n",
       "      <td>...</td>\n",
       "      <td>77.687805</td>\n",
       "      <td>77.987805</td>\n",
       "      <td>78.039024</td>\n",
       "      <td>78.390244</td>\n",
       "      <td>78.541463</td>\n",
       "      <td>78.641463</td>\n",
       "      <td>78.741463</td>\n",
       "      <td>78.841463</td>\n",
       "      <td>78.941463</td>\n",
       "      <td>NaN</td>\n",
       "    </tr>\n",
       "  </tbody>\n",
       "</table>\n",
       "<p>1 rows × 60 columns</p>\n",
       "</div>"
      ],
      "text/plain": [
       "      Country Name Country Code                           Indicator Name  \\\n",
       "148  United States          USA  Life expectancy at birth, total (years)   \n",
       "\n",
       "     Indicator Code       1960       1961       1962       1963       1964  \\\n",
       "148  SP.DYN.LE00.IN  69.770732  70.270732  70.119512  69.917073  70.165854   \n",
       "\n",
       "          1965  ...       2006       2007       2008       2009       2010  \\\n",
       "148  70.214634  ...  77.687805  77.987805  78.039024  78.390244  78.541463   \n",
       "\n",
       "          2011       2012       2013       2014  2015  \n",
       "148  78.641463  78.741463  78.841463  78.941463   NaN  \n",
       "\n",
       "[1 rows x 60 columns]"
      ]
     },
     "execution_count": 42,
     "metadata": {},
     "output_type": "execute_result"
    }
   ],
   "source": [
    "# return a dataframe where 'Indicator Name' == 'Life expectancy at birth, total (years)'\n",
    "us_life_expectancy = usa_df[usa_df['Indicator Name'] == 'Life expectancy at birth, total (years)']\n",
    "us_life_expectancy"
   ]
  },
  {
   "cell_type": "code",
   "execution_count": 43,
   "id": "a395a481-180c-49dc-bd6b-7518f4bf91e2",
   "metadata": {},
   "outputs": [
    {
     "data": {
      "text/plain": [
       "Country Name      0\n",
       "Country Code      0\n",
       "Indicator Name    0\n",
       "Indicator Code    0\n",
       "1960              0\n",
       "1961              0\n",
       "1962              0\n",
       "1963              0\n",
       "1964              0\n",
       "1965              0\n",
       "1966              0\n",
       "1967              0\n",
       "1968              0\n",
       "1969              0\n",
       "1970              0\n",
       "1971              0\n",
       "1972              0\n",
       "1973              0\n",
       "1974              0\n",
       "1975              0\n",
       "1976              0\n",
       "1977              0\n",
       "1978              0\n",
       "1979              0\n",
       "1980              0\n",
       "1981              0\n",
       "1982              0\n",
       "1983              0\n",
       "1984              0\n",
       "1985              0\n",
       "1986              0\n",
       "1987              0\n",
       "1988              0\n",
       "1989              0\n",
       "1990              0\n",
       "1991              0\n",
       "1992              0\n",
       "1993              0\n",
       "1994              0\n",
       "1995              0\n",
       "1996              0\n",
       "1997              0\n",
       "1998              0\n",
       "1999              0\n",
       "2000              0\n",
       "2001              0\n",
       "2002              0\n",
       "2003              0\n",
       "2004              0\n",
       "2005              0\n",
       "2006              0\n",
       "2007              0\n",
       "2008              0\n",
       "2009              0\n",
       "2010              0\n",
       "2011              0\n",
       "2012              0\n",
       "2013              0\n",
       "2014              0\n",
       "2015              1\n",
       "dtype: int64"
      ]
     },
     "execution_count": 43,
     "metadata": {},
     "output_type": "execute_result"
    }
   ],
   "source": [
    "# check for NaN values and sum by column\n",
    "us_life_expectancy.isna().sum()"
   ]
  },
  {
   "cell_type": "code",
   "execution_count": 44,
   "id": "1c6fbd82-98a4-41b2-9b7e-7b98df9a9309",
   "metadata": {},
   "outputs": [
    {
     "data": {
      "image/png": "[encoded data removed]",
      "text/plain": [
       "<Figure size 640x480 with 1 Axes>"
      ]
     },
     "metadata": {},
     "output_type": "display_data"
    }
   ],
   "source": [
    "# plot `us_life_expectancy`\n",
    "plt.plot(np.linspace(1960,2015,56), us_life_expectancy.iloc[0,4:], color='green', linestyle='dashed')\n",
    "plt.title('United States')\n",
    "plt.xlabel('Years')\n",
    "plt.xticks(range(1960,2016,6))\n",
    "plt.ylabel('Life expectancy at birth, total')\n",
    "\n",
    "plt.grid()\n",
    "# plt.show()\n",
    "\n",
    "plt.savefig('../images/us_life_expectancy.png')"
   ]
  },
  {
   "cell_type": "markdown",
   "id": "209574e2-8a8a-41d0-9651-46b8f7335238",
   "metadata": {},
   "source": [
    "Let's plot 'us_life_expectancy' against 'us_death_rate' on the same plot. For this, we'll need to use `plt` in an object-oriented fashion"
   ]
  },
  {
   "cell_type": "code",
   "execution_count": 45,
   "id": "cb779b1d-f090-427a-9cb9-3cc63ad4576c",
   "metadata": {},
   "outputs": [
    {
     "data": {
      "image/png": "[encoded data removed]",
      "text/plain": [
       "<Figure size 640x480 with 2 Axes>"
      ]
     },
     "metadata": {},
     "output_type": "display_data"
    }
   ],
   "source": [
    "fig, ax0 = plt.subplots()\n",
    "\n",
    "plt.title('United States', pad=10)\n",
    "plt.xlabel('Years', labelpad=10)\n",
    "plt.xticks(np.arange(1960,2016,6))\n",
    "plt.grid(axis='x')\n",
    "\n",
    "x = np.linspace(1960,2015,56)\n",
    "\n",
    "ax0.plot(x, us_life_expectancy.iloc[0,4:], color='green', alpha=0.75)\n",
    "ax0.set_ylabel('Life expectancy at birth, total (years)', color='green', labelpad=10)\n",
    "ax0.tick_params(axis='y', colors='green')\n",
    "\n",
    "ax1 = ax0.twinx()\n",
    "ax1.plot(x, us_death_rate.iloc[0,4:], color='red', alpha=0.75)\n",
    "ax1.set_ylabel('Death rate (per 1,000 people)', color='red', labelpad=10)\n",
    "ax1.tick_params(axis='y', colors='red')\n",
    "\n",
    "plt.tight_layout()\n",
    "# plt.show()\n",
    "\n",
    "plt.savefig('../images/us_life_expectancy_vs_death_rate.png')"
   ]
  },
  {
   "cell_type": "markdown",
   "id": "a012a59e-0ce9-4e5a-b0ae-3646c7733479",
   "metadata": {},
   "source": [
    "To no surprise, US life expectancy has gradually increased since the 1960's. Conversely, the US death rate (per 1,000 people) has seen a gradual decrease since the 1960's."
   ]
  },
  {
   "cell_type": "markdown",
   "id": "263e1a36-64f1-4726-b0bd-7f963fd4c93d",
   "metadata": {},
   "source": [
    "What about US health expenditure? Is there an inverse correlation between that and the US death rate? Alternatively, is there a positive correlation between US life expectancy and US health expenditure? Let's plot US health expenditure against both to find out."
   ]
  },
  {
   "cell_type": "code",
   "execution_count": 46,
   "id": "f698c2f3-cb50-4581-98b1-4a7c57d76c50",
   "metadata": {},
   "outputs": [
    {
     "data": {
      "text/html": [
       "<div>\n",
       "<style scoped>\n",
       "    .dataframe tbody tr th:only-of-type {\n",
       "        vertical-align: middle;\n",
       "    }\n",
       "\n",
       "    .dataframe tbody tr th {\n",
       "        vertical-align: top;\n",
       "    }\n",
       "\n",
       "    .dataframe thead th {\n",
       "        text-align: right;\n",
       "    }\n",
       "</style>\n",
       "<table border=\"1\" class=\"dataframe\">\n",
       "  <thead>\n",
       "    <tr style=\"text-align: right;\">\n",
       "      <th></th>\n",
       "      <th>Country Name</th>\n",
       "      <th>Country Code</th>\n",
       "      <th>Indicator Name</th>\n",
       "      <th>Indicator Code</th>\n",
       "      <th>1960</th>\n",
       "      <th>1961</th>\n",
       "      <th>1962</th>\n",
       "      <th>1963</th>\n",
       "      <th>1964</th>\n",
       "      <th>1965</th>\n",
       "      <th>...</th>\n",
       "      <th>2006</th>\n",
       "      <th>2007</th>\n",
       "      <th>2008</th>\n",
       "      <th>2009</th>\n",
       "      <th>2010</th>\n",
       "      <th>2011</th>\n",
       "      <th>2012</th>\n",
       "      <th>2013</th>\n",
       "      <th>2014</th>\n",
       "      <th>2015</th>\n",
       "    </tr>\n",
       "  </thead>\n",
       "  <tbody>\n",
       "    <tr>\n",
       "      <th>126</th>\n",
       "      <td>United States</td>\n",
       "      <td>USA</td>\n",
       "      <td>Health expenditure, total (% of GDP)</td>\n",
       "      <td>SH.XPD.TOTL.ZS</td>\n",
       "      <td>NaN</td>\n",
       "      <td>NaN</td>\n",
       "      <td>NaN</td>\n",
       "      <td>NaN</td>\n",
       "      <td>NaN</td>\n",
       "      <td>NaN</td>\n",
       "      <td>...</td>\n",
       "      <td>15.270043</td>\n",
       "      <td>15.566044</td>\n",
       "      <td>16.02261</td>\n",
       "      <td>16.999143</td>\n",
       "      <td>17.016758</td>\n",
       "      <td>17.057131</td>\n",
       "      <td>17.017361</td>\n",
       "      <td>16.897722</td>\n",
       "      <td>17.140754</td>\n",
       "      <td>NaN</td>\n",
       "    </tr>\n",
       "  </tbody>\n",
       "</table>\n",
       "<p>1 rows × 60 columns</p>\n",
       "</div>"
      ],
      "text/plain": [
       "      Country Name Country Code                        Indicator Name  \\\n",
       "126  United States          USA  Health expenditure, total (% of GDP)   \n",
       "\n",
       "     Indicator Code  1960  1961  1962  1963  1964  1965  ...       2006  \\\n",
       "126  SH.XPD.TOTL.ZS   NaN   NaN   NaN   NaN   NaN   NaN  ...  15.270043   \n",
       "\n",
       "          2007      2008       2009       2010       2011       2012  \\\n",
       "126  15.566044  16.02261  16.999143  17.016758  17.057131  17.017361   \n",
       "\n",
       "          2013       2014  2015  \n",
       "126  16.897722  17.140754   NaN  \n",
       "\n",
       "[1 rows x 60 columns]"
      ]
     },
     "execution_count": 46,
     "metadata": {},
     "output_type": "execute_result"
    }
   ],
   "source": [
    "# return a dataframe where 'Indicator Name' == 'Health expenditure, total (% of GDP)'\n",
    "us_health_exp_gdp = usa_df[usa_df['Indicator Name'] == 'Health expenditure, total (% of GDP)']\n",
    "us_health_exp_gdp"
   ]
  },
  {
   "cell_type": "markdown",
   "id": "b52627bb-c303-4bac-8b83-385679c5c1af",
   "metadata": {},
   "source": [
    "Looks like there are NaN values. Let's check, as usual."
   ]
  },
  {
   "cell_type": "code",
   "execution_count": 47,
   "id": "d74d7fcb-d170-4a0f-bc46-505ecd9ad99b",
   "metadata": {},
   "outputs": [
    {
     "data": {
      "text/plain": [
       "Country Name      0\n",
       "Country Code      0\n",
       "Indicator Name    0\n",
       "Indicator Code    0\n",
       "1960              1\n",
       "1961              1\n",
       "1962              1\n",
       "1963              1\n",
       "1964              1\n",
       "1965              1\n",
       "1966              1\n",
       "1967              1\n",
       "1968              1\n",
       "1969              1\n",
       "1970              1\n",
       "1971              1\n",
       "1972              1\n",
       "1973              1\n",
       "1974              1\n",
       "1975              1\n",
       "1976              1\n",
       "1977              1\n",
       "1978              1\n",
       "1979              1\n",
       "1980              1\n",
       "1981              1\n",
       "1982              1\n",
       "1983              1\n",
       "1984              1\n",
       "1985              1\n",
       "1986              1\n",
       "1987              1\n",
       "1988              1\n",
       "1989              1\n",
       "1990              1\n",
       "1991              1\n",
       "1992              1\n",
       "1993              1\n",
       "1994              1\n",
       "1995              0\n",
       "1996              0\n",
       "1997              0\n",
       "1998              0\n",
       "1999              0\n",
       "2000              0\n",
       "2001              0\n",
       "2002              0\n",
       "2003              0\n",
       "2004              0\n",
       "2005              0\n",
       "2006              0\n",
       "2007              0\n",
       "2008              0\n",
       "2009              0\n",
       "2010              0\n",
       "2011              0\n",
       "2012              0\n",
       "2013              0\n",
       "2014              0\n",
       "2015              1\n",
       "dtype: int64"
      ]
     },
     "execution_count": 47,
     "metadata": {},
     "output_type": "execute_result"
    }
   ],
   "source": [
    "# check for NaN values and sum by column\n",
    "us_health_exp_gdp.isna().sum()"
   ]
  },
  {
   "cell_type": "markdown",
   "id": "07dc657c-a3c8-4315-8079-953bc1df1e2d",
   "metadata": {},
   "source": [
    "US health expenditure (GDP) data only dates back to 1995 - 2014. Not ideal, but we can plot this against US death rate. Since the US death rate data goes back to 1960, we'll have to adjust accordingly."
   ]
  },
  {
   "cell_type": "code",
   "execution_count": 48,
   "id": "59e13ddf-4816-43d8-a042-11138d18fd22",
   "metadata": {},
   "outputs": [
    {
     "data": {
      "image/png": "[encoded data removed]",
      "text/plain": [
       "<Figure size 640x480 with 2 Axes>"
      ]
     },
     "metadata": {},
     "output_type": "display_data"
    }
   ],
   "source": [
    "fig, ax0 = plt.subplots()\n",
    "\n",
    "plt.title('United States', pad=10)\n",
    "plt.xlabel('Years', labelpad=10)\n",
    "plt.xticks(np.arange(1994,2016,2))\n",
    "plt.grid(axis='x')\n",
    "\n",
    "x = np.linspace(1995,2015,21)\n",
    "\n",
    "ax0.plot(x, us_health_exp_gdp.iloc[0,39:], color='blue', alpha=0.75)\n",
    "ax0.set_ylabel('Health expenditure, total (% of GDP)', color='blue', labelpad=10)\n",
    "ax0.tick_params(axis='y', colors='blue')\n",
    "\n",
    "ax1 = ax0.twinx()\n",
    "ax1.plot(x, us_death_rate.iloc[0,39:], color='red', alpha=0.75)\n",
    "ax1.set_ylabel('Death rate (per 1,000 people)', color='red', labelpad=10)\n",
    "ax1.tick_params(axis='y', colors='red')\n",
    "\n",
    "plt.tight_layout()\n",
    "# plt.show()\n",
    "\n",
    "plt.savefig('../images/us_health_exp_gdp_vs_death_rate.png')"
   ]
  },
  {
   "cell_type": "code",
   "execution_count": 49,
   "id": "f990d3ab-9a1a-45e4-aa2c-6bc5d90c3d4d",
   "metadata": {},
   "outputs": [
    {
     "data": {
      "text/html": [
       "<div>\n",
       "<style scoped>\n",
       "    .dataframe tbody tr th:only-of-type {\n",
       "        vertical-align: middle;\n",
       "    }\n",
       "\n",
       "    .dataframe tbody tr th {\n",
       "        vertical-align: top;\n",
       "    }\n",
       "\n",
       "    .dataframe thead th {\n",
       "        text-align: right;\n",
       "    }\n",
       "</style>\n",
       "<table border=\"1\" class=\"dataframe\">\n",
       "  <thead>\n",
       "    <tr style=\"text-align: right;\">\n",
       "      <th></th>\n",
       "      <th>Country Name</th>\n",
       "      <th>Country Code</th>\n",
       "      <th>Indicator Name</th>\n",
       "      <th>Indicator Code</th>\n",
       "      <th>1960</th>\n",
       "      <th>1961</th>\n",
       "      <th>1962</th>\n",
       "      <th>1963</th>\n",
       "      <th>1964</th>\n",
       "      <th>1965</th>\n",
       "      <th>...</th>\n",
       "      <th>2006</th>\n",
       "      <th>2007</th>\n",
       "      <th>2008</th>\n",
       "      <th>2009</th>\n",
       "      <th>2010</th>\n",
       "      <th>2011</th>\n",
       "      <th>2012</th>\n",
       "      <th>2013</th>\n",
       "      <th>2014</th>\n",
       "      <th>2015</th>\n",
       "    </tr>\n",
       "  </thead>\n",
       "  <tbody>\n",
       "    <tr>\n",
       "      <th>127</th>\n",
       "      <td>United States</td>\n",
       "      <td>USA</td>\n",
       "      <td>Health expenditure, total (current US$)</td>\n",
       "      <td>SH.XPD.TOTL.CD</td>\n",
       "      <td>NaN</td>\n",
       "      <td>NaN</td>\n",
       "      <td>NaN</td>\n",
       "      <td>NaN</td>\n",
       "      <td>NaN</td>\n",
       "      <td>NaN</td>\n",
       "      <td>...</td>\n",
       "      <td>2.115800e+12</td>\n",
       "      <td>2.253595e+12</td>\n",
       "      <td>2.358301e+12</td>\n",
       "      <td>2.451062e+12</td>\n",
       "      <td>2.546451e+12</td>\n",
       "      <td>2.646913e+12</td>\n",
       "      <td>2.750543e+12</td>\n",
       "      <td>2.833419e+12</td>\n",
       "      <td>2.985748e+12</td>\n",
       "      <td>NaN</td>\n",
       "    </tr>\n",
       "  </tbody>\n",
       "</table>\n",
       "<p>1 rows × 60 columns</p>\n",
       "</div>"
      ],
      "text/plain": [
       "      Country Name Country Code                           Indicator Name  \\\n",
       "127  United States          USA  Health expenditure, total (current US$)   \n",
       "\n",
       "     Indicator Code  1960  1961  1962  1963  1964  1965  ...          2006  \\\n",
       "127  SH.XPD.TOTL.CD   NaN   NaN   NaN   NaN   NaN   NaN  ...  2.115800e+12   \n",
       "\n",
       "             2007          2008          2009          2010          2011  \\\n",
       "127  2.253595e+12  2.358301e+12  2.451062e+12  2.546451e+12  2.646913e+12   \n",
       "\n",
       "             2012          2013          2014  2015  \n",
       "127  2.750543e+12  2.833419e+12  2.985748e+12   NaN  \n",
       "\n",
       "[1 rows x 60 columns]"
      ]
     },
     "execution_count": 49,
     "metadata": {},
     "output_type": "execute_result"
    }
   ],
   "source": [
    "# return a dataframe where 'Indicator Name' == 'Health expenditure, total (current US$)'\n",
    "us_health_exp_dollar = usa_df[usa_df['Indicator Name'] == 'Health expenditure, total (current US$)']\n",
    "us_health_exp_dollar"
   ]
  },
  {
   "cell_type": "code",
   "execution_count": 50,
   "id": "32ad15fe-85fd-4293-a86a-49f49eb0e327",
   "metadata": {},
   "outputs": [
    {
     "data": {
      "text/plain": [
       "Country Name      0\n",
       "Country Code      0\n",
       "Indicator Name    0\n",
       "Indicator Code    0\n",
       "1960              1\n",
       "1961              1\n",
       "1962              1\n",
       "1963              1\n",
       "1964              1\n",
       "1965              1\n",
       "1966              1\n",
       "1967              1\n",
       "1968              1\n",
       "1969              1\n",
       "1970              1\n",
       "1971              1\n",
       "1972              1\n",
       "1973              1\n",
       "1974              1\n",
       "1975              1\n",
       "1976              1\n",
       "1977              1\n",
       "1978              1\n",
       "1979              1\n",
       "1980              1\n",
       "1981              1\n",
       "1982              1\n",
       "1983              1\n",
       "1984              1\n",
       "1985              1\n",
       "1986              1\n",
       "1987              1\n",
       "1988              1\n",
       "1989              1\n",
       "1990              1\n",
       "1991              1\n",
       "1992              1\n",
       "1993              1\n",
       "1994              1\n",
       "1995              0\n",
       "1996              0\n",
       "1997              0\n",
       "1998              0\n",
       "1999              0\n",
       "2000              0\n",
       "2001              0\n",
       "2002              0\n",
       "2003              0\n",
       "2004              0\n",
       "2005              0\n",
       "2006              0\n",
       "2007              0\n",
       "2008              0\n",
       "2009              0\n",
       "2010              0\n",
       "2011              0\n",
       "2012              0\n",
       "2013              0\n",
       "2014              0\n",
       "2015              1\n",
       "dtype: int64"
      ]
     },
     "execution_count": 50,
     "metadata": {},
     "output_type": "execute_result"
    }
   ],
   "source": [
    "# check for NaN values and sum by column\n",
    "us_health_exp_dollar.isna().sum()"
   ]
  },
  {
   "cell_type": "markdown",
   "id": "b09d43c0-c887-4c19-8215-f4d967f8f58b",
   "metadata": {},
   "source": [
    "Looks like US health expenditure ($) also only dates back to 1960. Let's plot this statistic against US death rate only with the data (years) available."
   ]
  },
  {
   "cell_type": "code",
   "execution_count": 51,
   "id": "582aaa76-7136-4e75-8740-119acf4a9de1",
   "metadata": {},
   "outputs": [
    {
     "data": {
      "image/png": "[encoded data removed]",
      "text/plain": [
       "<Figure size 640x480 with 2 Axes>"
      ]
     },
     "metadata": {},
     "output_type": "display_data"
    }
   ],
   "source": [
    "fig, ax0 = plt.subplots()\n",
    "\n",
    "plt.title('United States', pad=10)\n",
    "plt.xlabel('Years', labelpad=10)\n",
    "plt.xticks(np.arange(1994,2016,2))\n",
    "plt.grid(axis='x')\n",
    "\n",
    "x = np.linspace(1995,2015,21)\n",
    "\n",
    "ax0.plot(x, us_health_exp_dollar.iloc[0,39:], color='purple', alpha=0.75)\n",
    "ax0.set_ylabel('Health expenditure, total (current US$ in trillions)', color='purple', labelpad=10)\n",
    "ax0.tick_params(axis='y', colors='purple')\n",
    "\n",
    "ax1 = ax0.twinx()\n",
    "ax1.plot(x, us_death_rate.iloc[0,39:], color='red', alpha=0.75)\n",
    "ax1.set_ylabel('Death rate (per 1,000 people)', color='red', labelpad=10)\n",
    "ax1.tick_params(axis='y', colors='red')\n",
    "\n",
    "plt.tight_layout()\n",
    "# plt.show()\n",
    "\n",
    "plt.savefig('../images/us_health_exp_dollar_vs_death_rate.png')"
   ]
  },
  {
   "cell_type": "markdown",
   "id": "b6908ec9-9bd0-4c6d-9d8a-3ab9b96a145f",
   "metadata": {},
   "source": [
    "Lastlym let's see if we have enough data to plot various 'US cause of death' statistics for good measure.\n",
    "\n",
    "* 'Cause of death, by communicable diseases and maternal, prenatal and nutrition conditions (% of total)'\n",
    "* 'Cause of death, by injury (% of total)'\n",
    "* 'Cause of death, by non-communicable diseases (% of total)'"
   ]
  },
  {
   "cell_type": "code",
   "execution_count": 52,
   "id": "34691f3f-0b0c-46e5-815b-ee437bc7c621",
   "metadata": {},
   "outputs": [
    {
     "data": {
      "text/plain": [
       "Country Name      0\n",
       "Country Code      0\n",
       "Indicator Name    0\n",
       "Indicator Code    0\n",
       "1960              1\n",
       "1961              1\n",
       "1962              1\n",
       "1963              1\n",
       "1964              1\n",
       "1965              1\n",
       "1966              1\n",
       "1967              1\n",
       "1968              1\n",
       "1969              1\n",
       "1970              1\n",
       "1971              1\n",
       "1972              1\n",
       "1973              1\n",
       "1974              1\n",
       "1975              1\n",
       "1976              1\n",
       "1977              1\n",
       "1978              1\n",
       "1979              1\n",
       "1980              1\n",
       "1981              1\n",
       "1982              1\n",
       "1983              1\n",
       "1984              1\n",
       "1985              1\n",
       "1986              1\n",
       "1987              1\n",
       "1988              1\n",
       "1989              1\n",
       "1990              1\n",
       "1991              1\n",
       "1992              1\n",
       "1993              1\n",
       "1994              1\n",
       "1995              1\n",
       "1996              1\n",
       "1997              1\n",
       "1998              1\n",
       "1999              1\n",
       "2000              0\n",
       "2001              1\n",
       "2002              1\n",
       "2003              1\n",
       "2004              1\n",
       "2005              1\n",
       "2006              1\n",
       "2007              1\n",
       "2008              1\n",
       "2009              1\n",
       "2010              1\n",
       "2011              1\n",
       "2012              0\n",
       "2013              1\n",
       "2014              1\n",
       "2015              1\n",
       "dtype: int64"
      ]
     },
     "execution_count": 52,
     "metadata": {},
     "output_type": "execute_result"
    }
   ],
   "source": [
    "usa_df[usa_df['Indicator Name'] == 'Cause of death, by communicable diseases and maternal, prenatal and nutrition conditions (% of total)'].isna().sum()"
   ]
  },
  {
   "cell_type": "code",
   "execution_count": 53,
   "id": "f16cfcde-91ce-4110-8dc4-dd907e62d873",
   "metadata": {},
   "outputs": [
    {
     "data": {
      "text/plain": [
       "Country Name      0\n",
       "Country Code      0\n",
       "Indicator Name    0\n",
       "Indicator Code    0\n",
       "1960              1\n",
       "1961              1\n",
       "1962              1\n",
       "1963              1\n",
       "1964              1\n",
       "1965              1\n",
       "1966              1\n",
       "1967              1\n",
       "1968              1\n",
       "1969              1\n",
       "1970              1\n",
       "1971              1\n",
       "1972              1\n",
       "1973              1\n",
       "1974              1\n",
       "1975              1\n",
       "1976              1\n",
       "1977              1\n",
       "1978              1\n",
       "1979              1\n",
       "1980              1\n",
       "1981              1\n",
       "1982              1\n",
       "1983              1\n",
       "1984              1\n",
       "1985              1\n",
       "1986              1\n",
       "1987              1\n",
       "1988              1\n",
       "1989              1\n",
       "1990              1\n",
       "1991              1\n",
       "1992              1\n",
       "1993              1\n",
       "1994              1\n",
       "1995              1\n",
       "1996              1\n",
       "1997              1\n",
       "1998              1\n",
       "1999              1\n",
       "2000              0\n",
       "2001              1\n",
       "2002              1\n",
       "2003              1\n",
       "2004              1\n",
       "2005              1\n",
       "2006              1\n",
       "2007              1\n",
       "2008              1\n",
       "2009              1\n",
       "2010              1\n",
       "2011              1\n",
       "2012              0\n",
       "2013              1\n",
       "2014              1\n",
       "2015              1\n",
       "dtype: int64"
      ]
     },
     "execution_count": 53,
     "metadata": {},
     "output_type": "execute_result"
    }
   ],
   "source": [
    "usa_df[usa_df['Indicator Name'] == 'Cause of death, by injury (% of total)'].isna().sum()"
   ]
  },
  {
   "cell_type": "code",
   "execution_count": 54,
   "id": "d8ca380d-7f53-4bbc-8544-ebacf329a1fa",
   "metadata": {},
   "outputs": [
    {
     "data": {
      "text/plain": [
       "Country Name      0\n",
       "Country Code      0\n",
       "Indicator Name    0\n",
       "Indicator Code    0\n",
       "1960              1\n",
       "1961              1\n",
       "1962              1\n",
       "1963              1\n",
       "1964              1\n",
       "1965              1\n",
       "1966              1\n",
       "1967              1\n",
       "1968              1\n",
       "1969              1\n",
       "1970              1\n",
       "1971              1\n",
       "1972              1\n",
       "1973              1\n",
       "1974              1\n",
       "1975              1\n",
       "1976              1\n",
       "1977              1\n",
       "1978              1\n",
       "1979              1\n",
       "1980              1\n",
       "1981              1\n",
       "1982              1\n",
       "1983              1\n",
       "1984              1\n",
       "1985              1\n",
       "1986              1\n",
       "1987              1\n",
       "1988              1\n",
       "1989              1\n",
       "1990              1\n",
       "1991              1\n",
       "1992              1\n",
       "1993              1\n",
       "1994              1\n",
       "1995              1\n",
       "1996              1\n",
       "1997              1\n",
       "1998              1\n",
       "1999              1\n",
       "2000              0\n",
       "2001              1\n",
       "2002              1\n",
       "2003              1\n",
       "2004              1\n",
       "2005              1\n",
       "2006              1\n",
       "2007              1\n",
       "2008              1\n",
       "2009              1\n",
       "2010              1\n",
       "2011              1\n",
       "2012              0\n",
       "2013              1\n",
       "2014              1\n",
       "2015              1\n",
       "dtype: int64"
      ]
     },
     "execution_count": 54,
     "metadata": {},
     "output_type": "execute_result"
    }
   ],
   "source": [
    "usa_df[usa_df['Indicator Name'] == 'Cause of death, by non-communicable diseases (% of total)'].isna().sum()"
   ]
  },
  {
   "cell_type": "markdown",
   "id": "ee2efd2f-2932-4cde-b8ca-cb061d6beb83",
   "metadata": {},
   "source": [
    "Unfortunately, it looks like there are too many missing values to proceed. "
   ]
  },
  {
   "cell_type": "markdown",
   "id": "33639cc7-abef-437c-8f30-1767f701dbbc",
   "metadata": {},
   "source": [
    "In conclusion, we can create highly customizable visualizations by leveraging Pandas and Matplotlib. What was demonstrated here was simply a taste!"
   ]
  },
  {
   "cell_type": "code",
   "execution_count": null,
   "id": "5853ef53-92e5-4820-b6e5-47ac5bcd03ca",
   "metadata": {},
   "outputs": [],
   "source": []
  }
 ],
 "metadata": {
  "kernelspec": {
   "display_name": "Python 3 (ipykernel)",
   "language": "python",
   "name": "python3"
  },
  "language_info": {
   "codemirror_mode": {
    "name": "ipython",
    "version": 3
   },
   "file_extension": ".py",
   "mimetype": "text/x-python",
   "name": "python",
   "nbconvert_exporter": "python",
   "pygments_lexer": "ipython3",
   "version": "3.12.4"
  }
 },
 "nbformat": 4,
 "nbformat_minor": 5
}
